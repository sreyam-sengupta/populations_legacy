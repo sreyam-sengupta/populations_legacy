{
 "cells": [
  {
   "cell_type": "code",
   "execution_count": 2,
   "id": "4289efc8",
   "metadata": {},
   "outputs": [
    {
     "data": {
      "text/html": [
       "<style>.container { width:100% !important; }</style>"
      ],
      "text/plain": [
       "<IPython.core.display.HTML object>"
      ]
     },
     "metadata": {},
     "output_type": "display_data"
    }
   ],
   "source": [
    "import math\n",
    "import numpy as np\n",
    "import random as rand\n",
    "from numba import jit,int64,float64\n",
    "import matplotlib.pyplot as plt\n",
    "%matplotlib inline\n",
    "\n",
    "#To increase cell width:\n",
    "from IPython.display import display, HTML\n",
    "display(HTML(\"<style>.container { width:100% !important; }</style>\"))"
   ]
  },
  {
   "cell_type": "code",
   "execution_count": 80,
   "id": "e885b9aa",
   "metadata": {},
   "outputs": [
    {
     "name": "stdout",
     "output_type": "stream",
     "text": [
      "K = 1; 0.5*dg/dt = 1250.0\n",
      "D = 50.0; 0.5*dg**2/dt = 500.00000000000006\n"
     ]
    }
   ],
   "source": [
    "#The spacetime parameters. Let the population distribution of gene expression level be g:\n",
    "g_min = 0\n",
    "g_max = 100\n",
    "dg = 0.4\n",
    "#Defining a g_ghost which contains two extra `ghost' points at the edges:\n",
    "g_ghost = np.arange(g_min-dg,g_max+2*dg,dg)\n",
    "g = np.array(g_ghost[1:-1])\n",
    "\n",
    "\n",
    "#Time:\n",
    "dt = 0.00016\n",
    "T = 20\n",
    "Nt = round(T/dt)\n",
    "TimeRange = np.arange(0,T,dt)\n",
    "\n",
    "#How the population distributions evolve in the absence of selection. First, we define the free parameters...\n",
    "#...K and alpha, and from those D. K sets the timescale of population response to the regulated mean...\n",
    "#...which is set instantaneously. We may choose time units such that K=1.\n",
    "K = 1\n",
    "#The strength of noise:\n",
    "alpha = 1\n",
    "#The spread, with the preferred expression level (peak) now set to 50% of maximum.:\n",
    "g_peak = 0.5*(g_min+g_max)\n",
    "D = alpha*K*g_peak\n",
    "\n",
    "#Checks:\n",
    "print(f\"K = {K}; 0.5*dg/dt = {0.5*dg/dt}\")\n",
    "print(f\"D = {D}; 0.5*dg**2/dt = {0.5*dg**2/dt}\")\n",
    "\n",
    "#Stability check:\n",
    "flag_stability=0\n",
    "if (K>=int(0.5*dg/dt) or D>=int(0.5*dg**2/dt)):\n",
    "    flag_stability=1\n",
    "    print(\"Warning! FTCS unstable.\")\n",
    "    \n",
    "#Now let's add selection to the picture. First, defining the relative differential growth rate delta. We multiply this by 0.17/g_max to get Dekel delta.\n",
    "delta = .17/g_max\n",
    "\n",
    "#Color-blind friendly colors to plot:\n",
    "CB_colors = ['#377eb8', '#ff7f00', '#4daf4a','#f781bf', '#a65628', '#984ea3','#999999', '#e41a1c', '#dede00']"
   ]
  },
  {
   "cell_type": "code",
   "execution_count": 8,
   "id": "953adf61",
   "metadata": {},
   "outputs": [],
   "source": [
    "#First derivative, central difference method (used in the potential term K*d/dg (g*P)):\n",
    "@jit(\"float64[:](float64[:],float64)\",nopython=True)\n",
    "def derv1(func,dx):\n",
    "    func_left = func[0:-2]\n",
    "    func_right = func[2:]\n",
    "    #Below we calculate the first derivative using the central difference method:\n",
    "    derivative = (func_right - func_left)/(2*dx)\n",
    "    return derivative\n",
    "\n",
    "#Second derivative using central difference, used in the diffusion term (D*d2/dg2 (P)):\n",
    "@jit(\"float64[:](float64[:],float64)\",nopython=True)\n",
    "def derv2(func,dx):\n",
    "    func_left = func[0:-2]\n",
    "    func_right = func[2:]\n",
    "    func_center = func[1:-1]\n",
    "    #Below we calculate the second derivative, again using central difference method:\n",
    "    derivative2 = (func_right + func_left - 2*func_center)/(dx**2)\n",
    "    return derivative2\n",
    "\n",
    "#Defining a Gaussian pdf - we'll need it for P(g,t=0), the initial distribution:\n",
    "@jit(nopython=True)\n",
    "def Gaussian(x,mu,sigma):\n",
    "    dist = 1/(sigma*np.sqrt(2*np.pi))*np.exp(-0.5*((x-mu)/sigma)**2)\n",
    "    return dist\n",
    "\n",
    "#The function to calculate <f> dynamically, i.e. int_g f(g,s) P(g,t):\n",
    "@jit(nopython=True)\n",
    "def mean_wrt_P(func,P,g):\n",
    "    integrand = func*P\n",
    "    integral = np.trapz(integrand,g)\n",
    "    return integral\n",
    "\n",
    "#Defining the fitness function:\n",
    "# @jit([\"float64[:](float64[:],float64,float64)\",\"float64(float64,float64,float64)\"],nopython=True)\n",
    "def fitness(g,s,delta):\n",
    "#     fit = delta*((.17/g_max)*(g*s/(400+s) - (2/17)*g/(1-g/(1.8*g_max))) + 1)\n",
    "    return delta*(g*s/(400+s) - (2/17)*g/(1-g/(1.8*g_max)))\n",
    "\n",
    "#Putting the solver inside a function:\n",
    "# @jit(\"float64[:,:](float64[:],float64[:],float64,float64,float64)\",nopython=True)\n",
    "@jit(nopython=True)\n",
    "def selection(p0_unreg,p0_reg,s,alpha,delta):\n",
    "    #First, define the fitness function:\n",
    "    fit = (g*s/(400+s) - (2/17)*g/(1-g/(1.8*g_max)))\n",
    "    g_reg = g[np.argmax(fit)]\n",
    "    fit = delta*fit\n",
    "    \n",
    "    #Just to test, g_peak = g_reg:\n",
    "    g_peak = g_reg\n",
    "\n",
    "    #Now let's compare the effects of regulation vs selection:\n",
    "    p_unreg = p0_unreg\n",
    "    p_reg = p0_reg\n",
    "    flag_unreg = 0\n",
    "    flag_reg = 0\n",
    "    \n",
    "#     #Storing dynamic fitness:\n",
    "#     dyn_fit_unreg = np.zeros_like\n",
    "\n",
    "    #Now evolve it:\n",
    "    for t in range(Nt):\n",
    "        #Setting the diffusion constants, unregulated first:\n",
    "        g_mean_unreg = np.trapz(g*p_unreg,g)\n",
    "        if (alpha*g_mean_unreg<=1):\n",
    "            flag_unreg = 1\n",
    "            D_unreg = 1.1\n",
    "        elif (alpha*K*g_mean_unreg>=int(0.5*dg**2/dt)):\n",
    "            flag_unreg = 1\n",
    "            D_unreg = 0.9*(0.5*dg**2/dt)\n",
    "        else:\n",
    "            D_unreg = alpha*K*g_mean_unreg\n",
    "\n",
    "        #Regulated:\n",
    "        g_mean_reg = np.trapz(g*p_unreg,g)\n",
    "        if (alpha*g_mean_reg<=1):\n",
    "            flag_reg = 1\n",
    "            D_reg = 1.1\n",
    "        elif (alpha*K*g_mean_reg>=int(0.5*dg**2/dt)):\n",
    "            flag_reg = 1\n",
    "            D_reg = 0.9*(0.5*dg**2/dt)\n",
    "        else:\n",
    "            D_reg = alpha*K*g_mean_reg\n",
    "\n",
    "    #     #Checks:\n",
    "    #     if (t%10==0):\n",
    "    #         print(f\"\\nt={t}; g_mean_unreg={round(g_mean_unreg,2)}; D_unreg={round(D_unreg,2)}; max allowed={0.5*dg**2/dt}\")\n",
    "    #         print(f\"t={t}; g_mean_reg={round(g_mean_reg,2)}; D_reg={round(D_reg,2)}; max allowed={0.5*dg**2/dt}\")        \n",
    "\n",
    "        #Now creating the expanded p's, with ghost points. The bulk points are the same in each. Unregulated:\n",
    "        p_unreg_ghost = np.zeros(len(p_unreg)+2)\n",
    "        p_unreg_ghost[1:-1] = p_unreg\n",
    "        #Regulated:\n",
    "        p_reg_ghost = np.zeros(len(p_reg)+2)\n",
    "        p_reg_ghost[1:-1] = p_reg\n",
    "\n",
    "        #Setting the value of the ghost points. This represents the zero flux boundary conditions. Unregulated:\n",
    "        p_unreg_ghost[0] = p_unreg[1] + 2*dg*(K/D_unreg)*(g[0]-g_peak)*p_unreg[0]\n",
    "        p_unreg_ghost[-1] = p_unreg[-2] + 2*dg*(K/D_unreg)*(g_peak-g[-1])*p_unreg[-1]\n",
    "        #Regulated:\n",
    "        p_reg_ghost[0] = p_reg[1] + 2*dg*(K/D_reg)*(g[0]-g_reg)*p_reg[0]\n",
    "        p_reg_ghost[-1] = p_reg[-2] + 2*dg*(K/D_reg)*(g_reg-g[-1])*p_reg[-1]    \n",
    "\n",
    "        #Now to solve the equation. Unregulated first:\n",
    "        p_unreg = p_unreg + dt*((fit - mean_wrt_P(fit,p_unreg,g))*p_unreg \\\n",
    "                    + K*derv1((g_ghost-g_peak)*p_unreg_ghost,dg) + D_unreg*derv2(p_unreg_ghost,dg))\n",
    "        p_reg = p_reg + dt*((fit - mean_wrt_P(fit,p_reg,g))*p_reg \\\n",
    "                    + K*derv1((g_ghost-g_reg)*p_reg_ghost,dg) + D_reg*derv2(p_reg_ghost,dg))\n",
    "\n",
    "#         #Finally, for the edge cases, we normalize:\n",
    "#         if (flag_unreg==1):\n",
    "#             p_unreg = p_unreg/np.trapz(p_unreg,dx=dg)\n",
    "#         if (flag_reg==1):\n",
    "#             p_reg = p_reg/np.trapz(p_reg,dx=dg)\n",
    "            \n",
    "    return p_unreg,p_reg"
   ]
  },
  {
   "cell_type": "code",
   "execution_count": 81,
   "id": "284eeb2d",
   "metadata": {},
   "outputs": [],
   "source": [
    "alpha = 10\n",
    "g_peak = 100"
   ]
  },
  {
   "cell_type": "code",
   "execution_count": 82,
   "id": "351e5acc",
   "metadata": {},
   "outputs": [],
   "source": [
    "p0_unreg = Gaussian(g,g_peak,np.maximum(np.sqrt(alpha*g_peak),1))\n",
    "p0_unreg = p0_unreg/np.trapz(p0_unreg,dx=dg)"
   ]
  },
  {
   "cell_type": "code",
   "execution_count": 83,
   "id": "2f5a2521",
   "metadata": {},
   "outputs": [
    {
     "data": {
      "text/plain": [
       "[<matplotlib.lines.Line2D at 0x7f9ba2213e20>]"
      ]
     },
     "execution_count": 83,
     "metadata": {},
     "output_type": "execute_result"
    },
    {
     "data": {
      "image/png": "[encoded data removed]",
      "text/plain": [
       "<Figure size 432x288 with 1 Axes>"
      ]
     },
     "metadata": {
      "needs_background": "light"
     },
     "output_type": "display_data"
    }
   ],
   "source": [
    "#Bare gaussian:\n",
    "plt.plot(g,p0_unreg)"
   ]
  },
  {
   "cell_type": "code",
   "execution_count": 84,
   "id": "2a2a2880",
   "metadata": {},
   "outputs": [
    {
     "data": {
      "text/plain": [
       "[<matplotlib.lines.Line2D at 0x7f9ba217e6a0>]"
      ]
     },
     "execution_count": 84,
     "metadata": {},
     "output_type": "execute_result"
    },
    {
     "data": {
      "image/png": "[encoded data removed]",
      "text/plain": [
       "<Figure size 432x288 with 1 Axes>"
      ]
     },
     "metadata": {
      "needs_background": "light"
     },
     "output_type": "display_data"
    }
   ],
   "source": [
    "#Gaussian multiplied by g:\n",
    "plt.plot(g,g*p0_unreg)\n",
    "plt.plot(g[1:-1],derv2(g*p0_unreg,dg))"
   ]
  },
  {
   "cell_type": "markdown",
   "id": "80c16105",
   "metadata": {},
   "source": [
    "Double derivative of the form $\\dfrac{\\partial^2}{\\partial x^2} x p(x)$:"
   ]
  },
  {
   "cell_type": "code",
   "execution_count": 85,
   "id": "e4f04fdf",
   "metadata": {},
   "outputs": [
    {
     "data": {
      "text/plain": [
       "[<matplotlib.lines.Line2D at 0x7f9ba20e14f0>]"
      ]
     },
     "execution_count": 85,
     "metadata": {},
     "output_type": "execute_result"
    },
    {
     "data": {
      "image/png": "[encoded data removed]",
      "text/plain": [
       "<Figure size 432x288 with 1 Axes>"
      ]
     },
     "metadata": {
      "needs_background": "light"
     },
     "output_type": "display_data"
    }
   ],
   "source": [
    "#Double derivative:\n",
    "exact_soln = derv2(g*p0_unreg,dg)\n",
    "plt.plot(g[1:-1],exact_soln)"
   ]
  },
  {
   "cell_type": "markdown",
   "id": "a8e750b9",
   "metadata": {},
   "source": [
    "Now, term of form $\\langle x \\rangle \\dfrac{\\partial^2}{\\partial x^2} p(x)$:"
   ]
  },
  {
   "cell_type": "code",
   "execution_count": 86,
   "id": "8379dfa2",
   "metadata": {},
   "outputs": [
    {
     "data": {
      "text/plain": [
       "[<matplotlib.lines.Line2D at 0x7f9ba20c97c0>]"
      ]
     },
     "execution_count": 86,
     "metadata": {},
     "output_type": "execute_result"
    },
    {
     "data": {
      "image/png": "[encoded data removed]",
      "text/plain": [
       "<Figure size 432x288 with 1 Axes>"
      ]
     },
     "metadata": {
      "needs_background": "light"
     },
     "output_type": "display_data"
    }
   ],
   "source": [
    "g_mean = mean_wrt_P(g,p0_unreg,g)\n",
    "sreyams_approx = g_mean*derv2(p0_unreg,dg)\n",
    "plt.plot(g[1:-1],sreyams_approx)"
   ]
  },
  {
   "cell_type": "code",
   "execution_count": 77,
   "id": "fda19919",
   "metadata": {},
   "outputs": [
    {
     "data": {
      "text/plain": [
       "[<matplotlib.lines.Line2D at 0x7f9ba2223fd0>]"
      ]
     },
     "execution_count": 77,
     "metadata": {},
     "output_type": "execute_result"
    },
    {
     "data": {
      "image/png": "[encoded data removed]",
      "text/plain": [
       "<Figure size 432x288 with 1 Axes>"
      ]
     },
     "metadata": {
      "needs_background": "light"
     },
     "output_type": "display_data"
    }
   ],
   "source": [
    "#Difference between exact solution and my approximation:\n",
    "plt.plot(g[1:-1],exact_soln-sreyams_approx)"
   ]
  },
  {
   "cell_type": "code",
   "execution_count": 87,
   "id": "4841eb44",
   "metadata": {},
   "outputs": [
    {
     "data": {
      "text/plain": [
       "5.330862734374774"
      ]
     },
     "execution_count": 87,
     "metadata": {},
     "output_type": "execute_result"
    }
   ],
   "source": [
    "#Scale of the error:\n",
    "Nt*dt*alpha*K*np.trapz(exact_soln-sreyams_approx,dx=dg)"
   ]
  },
  {
   "cell_type": "code",
   "execution_count": null,
   "id": "460d50eb",
   "metadata": {},
   "outputs": [],
   "source": []
  }
 ],
 "metadata": {
  "kernelspec": {
   "display_name": "Python 3 (ipykernel)",
   "language": "python",
   "name": "python3"
  },
  "language_info": {
   "codemirror_mode": {
    "name": "ipython",
    "version": 3
   },
   "file_extension": ".py",
   "mimetype": "text/x-python",
   "name": "python",
   "nbconvert_exporter": "python",
   "pygments_lexer": "ipython3",
   "version": "3.9.12"
  }
 },
 "nbformat": 4,
 "nbformat_minor": 5
}
