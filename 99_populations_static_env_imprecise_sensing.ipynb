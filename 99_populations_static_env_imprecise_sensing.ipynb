{
 "cells": [
  {
   "cell_type": "code",
   "execution_count": 1,
   "id": "4289efc8",
   "metadata": {},
   "outputs": [
    {
     "data": {
      "text/html": [
       "<style>.container { width:100% !important; }</style>"
      ],
      "text/plain": [
       "<IPython.core.display.HTML object>"
      ]
     },
     "metadata": {},
     "output_type": "display_data"
    }
   ],
   "source": [
    "import math\n",
    "import numpy as np\n",
    "import random as rand\n",
    "from numba import jit,int64,float64\n",
    "import scipy.special as scisp\n",
    "from scipy.optimize import curve_fit\n",
    "import matplotlib.pyplot as plt\n",
    "%matplotlib inline\n",
    "\n",
    "#To increase cell width:\n",
    "from IPython.display import display, HTML\n",
    "display(HTML(\"<style>.container { width:100% !important; }</style>\"))"
   ]
  },
  {
   "cell_type": "code",
   "execution_count": 2,
   "id": "e885b9aa",
   "metadata": {},
   "outputs": [
    {
     "name": "stdout",
     "output_type": "stream",
     "text": [
      "K = 1; 0.5*dg/dt = 1250.0\n",
      "D = 50.0; 0.5*dg**2/dt = 500.00000000000006\n"
     ]
    }
   ],
   "source": [
    "#The spacetime parameters. Let the population distribution of gene expression level be g:\n",
    "g_min = 0\n",
    "g_max = 100\n",
    "dg = 0.4\n",
    "#Defining a g_ghost which contains two extra `ghost' points at the edges:\n",
    "g_ghost = np.arange(g_min-dg,g_max+2*dg,dg)\n",
    "g = np.array(g_ghost[1:-1])\n",
    "\n",
    "#Time:\n",
    "dt = 0.00016\n",
    "T = 20\n",
    "Nt = int(T/dt)\n",
    "TimeRange = np.arange(0,T,dt)\n",
    "\n",
    "#How the population distributions evolve in the absence of selection. First, we define the free parameters...\n",
    "#...K and alpha, and from those D. K sets the timescale of population response to the regulated mean...\n",
    "#...which is set instantaneously. We may choose time units such that K=1.\n",
    "K = 1\n",
    "#The strength of noise:\n",
    "alpha = 1\n",
    "#The spread, with the preferred expression level (peak) now set to 50% of maximum.:\n",
    "g_peak = 0.5*(g_min+g_max)\n",
    "D = alpha*K*g_peak\n",
    "\n",
    "#Checks:\n",
    "print(f\"K = {K}; 0.5*dg/dt = {0.5*dg/dt}\")\n",
    "print(f\"D = {D}; 0.5*dg**2/dt = {0.5*dg**2/dt}\")\n",
    "\n",
    "#Stability check:\n",
    "flag_stability=0\n",
    "if (K>=int(0.5*dg/dt) or D>=int(0.5*dg**2/dt)):\n",
    "    flag_stability=1\n",
    "    print(\"Warning! FTCS unstable.\")\n",
    "    \n",
    "#Now let's add selection to the picture. First, defining the relative differential growth rate delta.\n",
    "delta = 25\n",
    "\n",
    "#Color-blind friendly colors to plot:\n",
    "CB_colors = ['#377eb8', '#ff7f00', '#4daf4a','#f781bf', '#a65628', '#984ea3','#999999', '#e41a1c', '#dede00']"
   ]
  },
  {
   "cell_type": "code",
   "execution_count": 20,
   "id": "953adf61",
   "metadata": {},
   "outputs": [],
   "source": [
    "#First derivative, central difference method (used in the potential term K*d/dg (g*P)):\n",
    "@jit(\"float64[:](float64[:],float64)\",nopython=True)\n",
    "def derv1(func,dx):\n",
    "    func_left = func[0:-2]\n",
    "    func_right = func[2:]\n",
    "    #Below we calculate the first derivative using the central difference method:\n",
    "    derivative = (func_right - func_left)/(2*dx)\n",
    "    return derivative\n",
    "\n",
    "#Second derivative using central difference, used in the diffusion term (D*d2/dg2 (P)):\n",
    "@jit(\"float64[:](float64[:],float64)\",nopython=True)\n",
    "def derv2(func,dx):\n",
    "    func_left = func[0:-2]\n",
    "    func_right = func[2:]\n",
    "    func_center = func[1:-1]\n",
    "    #Below we calculate the second derivative, again using central difference method:\n",
    "    derivative2 = (func_right + func_left - 2*func_center)/(dx**2)\n",
    "    return derivative2\n",
    "\n",
    "#Defining a Gaussian pdf - we'll need it for P(g,t=0), the initial distribution:\n",
    "@jit(nopython=True)\n",
    "def Gaussian_pdf(x,mu,sigma):\n",
    "    dist = 1/(sigma*np.sqrt(2*np.pi))*np.exp(-0.5*((x-mu)/sigma)**2)\n",
    "    return dist\n",
    "\n",
    "#Now the Gaussian cdf:\n",
    "def Gaussian_cdf(x,mu,sigma):\n",
    "    param = (x-mu)/sigma\n",
    "    cum_dist = 0.5*(1 + scisp.erf(param/np.sqrt(2)))\n",
    "    return cum_dist\n",
    "\n",
    "#Now we define a truncated Gaussian for the sugar:\n",
    "def trunc_Gaussian(x,mu,sigma,a,b):\n",
    "    trunc_gauss = np.zeros_like(x)\n",
    "    for idx in range(len(x)):\n",
    "        param = (x[idx]-mu)/sigma\n",
    "        if (x[idx]<a):\n",
    "            trunc_gauss[idx] = 0\n",
    "        elif (a<=x[idx] and x[idx]<=b):\n",
    "            trunc_gauss[idx] = (1/sigma)*Gaussian_pdf(param,0,1)/(Gaussian_cdf((b-mu)/sigma,0,1) - Gaussian_cdf((a-mu)/sigma,0,1))\n",
    "        elif (b<x[idx]):\n",
    "            trunc_gauss[idx] = 0\n",
    "    return trunc_gauss\n",
    "\n",
    "#The function to calculate <f> dynamically, i.e. int_g f(g,s) P(g,t):\n",
    "@jit(nopython=True)\n",
    "def mean_wrt_P(func,P,g):\n",
    "    integrand = func*P\n",
    "    integral = np.trapz(integrand,g)\n",
    "    return integral\n",
    "\n",
    "#The function to calculate <f^2> - <f>^2 dynamically:\n",
    "@jit(nopython=True)\n",
    "def var_wrt_P(func,P,g):\n",
    "    term1 = mean_wrt_P(func**2,P,g)\n",
    "    term2 = (mean_wrt_P(func,P,g))**2\n",
    "    var = term1 - term2\n",
    "    return var\n",
    "\n",
    "#Defining the fitness function:\n",
    "# @jit([\"float64[:](float64[:],float64,float64)\",\"float64(float64,float64,float64)\"],nopython=True)\n",
    "def fitness(g,s,delta):\n",
    "#     fit = A*(delta*g*s/(C+s) - eta*g/(1-g/M))\n",
    "    fit = delta*(g*s/(400+s) - (2/17)*g/(1-g/(1.8*g_max)))\n",
    "    return fit\n",
    "\n",
    "#Putting the solver inside a function:\n",
    "# @jit(\"float64[:,:](float64[:],float64[:],float64,float64,float64)\",nopython=True)\n",
    "@jit(nopython=True)\n",
    "def selection(p0_unreg,p0_reg,s,alpha,delta,g_reg_false):\n",
    "    #First, define the fitness function:\n",
    "    fit = delta*(g*s/(400+s) - (2/17)*g/(1-g/(1.8*g_max)))\n",
    "    \n",
    "    #Setting g_reg as the false value:\n",
    "#     g_reg = g[np.argmax(fit)]\n",
    "    g_reg = g_reg_false\n",
    "\n",
    "    #Now let's compare the effects of regulation vs selection:\n",
    "    p_unreg = p0_unreg\n",
    "    p_reg = p0_reg\n",
    "    flag_unreg = 0\n",
    "    flag_reg = 0\n",
    "    \n",
    "#     #Storing dynamic fitness:\n",
    "#     dyn_fit_unreg = np.zeros_like\n",
    "\n",
    "    #Now evolve it:\n",
    "    for t in range(Nt):\n",
    "        #Setting the diffusion constants, unregulated first:\n",
    "        g_mean_unreg = np.trapz(g*p_unreg,g)\n",
    "        if (alpha*g_mean_unreg<=1):\n",
    "            flag_unreg = 1\n",
    "            D_unreg = 1.1\n",
    "        elif (alpha*K*g_mean_unreg>=int(0.5*dg**2/dt)):\n",
    "            flag_unreg = 1\n",
    "            D_unreg = 0.9*(0.5*dg**2/dt)\n",
    "        else:\n",
    "            D_unreg = alpha*K*g_mean_unreg\n",
    "\n",
    "        #Regulated:\n",
    "        g_mean_reg = np.trapz(g*p_unreg,g)\n",
    "        if (alpha*g_mean_reg<=1):\n",
    "            flag_reg = 1\n",
    "            D_reg = 1.1\n",
    "        elif (alpha*K*g_mean_reg>=int(0.5*dg**2/dt)):\n",
    "            flag_reg = 1\n",
    "            D_reg = 0.9*(0.5*dg**2/dt)\n",
    "        else:\n",
    "            D_reg = alpha*K*g_mean_reg\n",
    "\n",
    "    #     #Checks:\n",
    "    #     if (t%10==0):\n",
    "    #         print(f\"\\nt={t}; g_mean_unreg={round(g_mean_unreg,2)}; D_unreg={round(D_unreg,2)}; max allowed={0.5*dg**2/dt}\")\n",
    "    #         print(f\"t={t}; g_mean_reg={round(g_mean_reg,2)}; D_reg={round(D_reg,2)}; max allowed={0.5*dg**2/dt}\")        \n",
    "\n",
    "        #Now creating the expanded p's, with ghost points. The bulk points are the same in each. Unregulated:\n",
    "        p_unreg_ghost = np.zeros(len(p_unreg)+2)\n",
    "        p_unreg_ghost[1:-1] = p_unreg\n",
    "        #Regulated:\n",
    "        p_reg_ghost = np.zeros(len(p_reg)+2)\n",
    "        p_reg_ghost[1:-1] = p_reg\n",
    "\n",
    "        #Setting the value of the ghost points. This represents the zero flux boundary conditions. Unregulated:\n",
    "        p_unreg_ghost[0] = p_unreg[1] + 2*dg*(K/D_unreg)*(g[0]-g_peak)*p_unreg[0]\n",
    "        p_unreg_ghost[-1] = p_unreg[-2] + 2*dg*(K/D_unreg)*(g_peak-g[-1])*p_unreg[-1]\n",
    "        #Regulated:\n",
    "        p_reg_ghost[0] = p_reg[1] + 2*dg*(K/D_reg)*(g[0]-g_reg)*p_reg[0]\n",
    "        p_reg_ghost[-1] = p_reg[-2] + 2*dg*(K/D_reg)*(g_reg-g[-1])*p_reg[-1]    \n",
    "\n",
    "        #Now to solve the equation. Unregulated first:\n",
    "        p_unreg = p_unreg + dt*((fit - mean_wrt_P(fit,p_unreg,g))*p_unreg \\\n",
    "                    + K*derv1((g_ghost-g_peak)*p_unreg_ghost,dg) + D_unreg*derv2(p_unreg_ghost,dg))\n",
    "        p_reg = p_reg + dt*((fit - mean_wrt_P(fit,p_reg,g))*p_reg \\\n",
    "                    + K*derv1((g_ghost-g_reg)*p_reg_ghost,dg) + D_reg*derv2(p_reg_ghost,dg))\n",
    "\n",
    "        #Finally, for the edge cases, we normalize:\n",
    "        if (flag_unreg==1):\n",
    "            p_unreg = p_unreg/np.trapz(p_unreg,dx=dg)\n",
    "        if (flag_reg==1):\n",
    "            p_reg = p_reg/np.trapz(p_reg,dx=dg)\n",
    "            \n",
    "    return p_unreg,p_reg\n",
    "\n",
    "#An exponential growth to fit:\n",
    "def exp_growth(x,a,b,c):\n",
    "    return np.exp(a*x+b)+c\n",
    "\n",
    "def poly_7d(x):\n",
    "    #The best fit of the sug vs g_opt function is 53.60036791981845 + 0.30961110859237373·x¹ + 0.08336445394467541·x² -\n",
    "    # 0.0065958083037096155·x³ + 0.0002912993947067304·x⁴ -\n",
    "    # 6.9983138256762474e-06·x⁵ + 9.445898957589526e-08·x⁶ -\n",
    "    # 6.694023845787639e-10·x⁷ + 1.959288442872537e-12·x⁸. We need its derivative:\n",
    "    coeff_arr = np.array([0.30961110859237373,2*0.08336445394467541,3*-0.0065958083037096155,4*0.0002912993947067304,5*-6.9983138256762474e-06,\\\n",
    "                         6*9.445898957589526e-08,7*-6.694023845787639e-10,8*1.959288442872537e-12])\n",
    "    ret_sum = 0\n",
    "    for idx in range(len(coeff_arr)):\n",
    "        ret_sum += coeff_arr[idx]*(x**idx)\n",
    "    return ret_sum"
   ]
  },
  {
   "cell_type": "code",
   "execution_count": 21,
   "id": "40270ccc",
   "metadata": {},
   "outputs": [],
   "source": [
    "#For a given true value of sugar, the falsely perceived values are distributed as Gaussian with mean equal to the true value...\n",
    "#...and a s.d. equal to sigma times mean:\n",
    "sug_low = 53\n",
    "sug_high = 600\n",
    "d_sug = 0.1\n",
    "sug_range = np.arange(sug_low,sug_high,d_sug)\n",
    "\n",
    "#Now, we know that given what the cell thinks is the sugar, there is a deterministic function that gives us the peak response g_opt:\n",
    "opt_g = np.zeros_like(sug_range)\n",
    "g_idx = 0\n",
    "for s in sug_range:\n",
    "    fit = fitness(g,s,delta)\n",
    "    opt_g[g_idx] = g[np.argmax(fit)]\n",
    "    g_idx+=1\n",
    "    \n",
    "#Getting rid of the repeated elements in opt_g and the corresponding elements in sug_range:\n",
    "opt_g_unq,unq_inds = np.unique(opt_g,return_index=True)\n",
    "sug_range_unq = sug_range[unq_inds]"
   ]
  },
  {
   "cell_type": "code",
   "execution_count": 22,
   "id": "1babf999",
   "metadata": {},
   "outputs": [],
   "source": [
    "#Let's fit the function s(g^*):\n",
    "from numpy.polynomial import Polynomial\n",
    "pol_fit = Polynomial.fit(opt_g_unq,sug_range_unq,8,domain=[0,100]).convert()"
   ]
  },
  {
   "cell_type": "code",
   "execution_count": 36,
   "id": "8bd628af",
   "metadata": {},
   "outputs": [
    {
     "name": "stdout",
     "output_type": "stream",
     "text": [
      "1.0\n",
      "0.9999999999999999\n"
     ]
    }
   ],
   "source": [
    "#Now let's start with a distribution of sugar and find the distribution of g. First, the true sugar and the error in sensing:\n",
    "sug_true = 300\n",
    "sigma_sug = 50\n",
    "\n",
    "#Setting the sugar pdf (sd not propto mean but constant):\n",
    "p_sug_false = Gaussian_pdf(sug_range_unq,sug_true,sigma_sug)\n",
    "p_sug_false = p_sug_false/np.trapz(p_sug_false,dx=d_sug)\n",
    "\n",
    "# #Setting the sugar pdf (sd propto mean):\n",
    "# p_sug_false = Gaussian_pdf(sug_range_unq,sug_true,sigma_sug*sug_true)\n",
    "# p_sug_false = p_sug_false/np.trapz(p_sug_false,dx=d_sug)\n",
    "\n",
    "#Creating the pdf for g:\n",
    "pdf_g = np.zeros_like(opt_g_unq)\n",
    "for g_idx in range(len(opt_g_unq)):\n",
    "    pdf_g[g_idx] = p_sug_false[g_idx]*poly_7d(opt_g_unq[g_idx])\n",
    "    \n",
    "print(np.trapz(p_sug_false,dx=d_sug))\n",
    "    \n",
    "#Normalizing:\n",
    "pdf_g = pdf_g/np.trapz(pdf_g,dx=dg)\n",
    "print(np.trapz(pdf_g,dx=dg))"
   ]
  },
  {
   "cell_type": "code",
   "execution_count": 48,
   "id": "6197d797",
   "metadata": {},
   "outputs": [
    {
     "name": "stdout",
     "output_type": "stream",
     "text": [
      "mean=85.20520360500156\n",
      "var=24.50734598062718\n"
     ]
    },
    {
     "data": {
      "image/png": "[encoded data removed]",
      "text/plain": [
       "<Figure size 432x288 with 1 Axes>"
      ]
     },
     "metadata": {
      "needs_background": "light"
     },
     "output_type": "display_data"
    }
   ],
   "source": [
    "plt.plot(g,pdf_g)\n",
    "print(f\"mean={mean_wrt_P(opt_g_unq,pdf_g,opt_g_unq)}\")\n",
    "print(f\"var={var_wrt_P(opt_g_unq,pdf_g,opt_g_unq)}\")\n",
    "# opt_g_unq[np.argmax(pdf_g)]"
   ]
  },
  {
   "cell_type": "code",
   "execution_count": 55,
   "id": "65db69b5",
   "metadata": {},
   "outputs": [
    {
     "name": "stdout",
     "output_type": "stream",
     "text": [
      "g_reg_true=85.6\n",
      "g_reg_false=85.21\n"
     ]
    }
   ],
   "source": [
    "#Now let's try different values of expression noise alpha vs sigma to see if there's a nontrivial optimum:\n",
    "alpha = 3\n",
    "fit = fitness(g,sug_true,delta)\n",
    "#The g_reg is obtained from the perceived sugar:\n",
    "g_reg_true = g[np.argmax(fit)]\n",
    "g_reg_false = mean_wrt_P(opt_g_unq,pdf_g,opt_g_unq)\n",
    "# g_reg_false = opt_g_unq[np.argmax(pdf_g)]\n",
    "print(f\"g_reg_true={round(g_reg_true,2)}\")\n",
    "print(f\"g_reg_false={round(g_reg_false,2)}\")\n",
    "\n",
    "#Generating the initial distributions:\n",
    "g_peak = 0.5*(g_min+g_max)\n",
    "#We don't want a standard deviation of 0, so even if the g_reg is 0, we set the s.d. of p0_reg to 1:\n",
    "p0_unreg = Gaussian_pdf(g,g_peak,np.maximum(np.sqrt(alpha*g_peak),1))\n",
    "p0_unreg = p0_unreg/np.trapz(p0_unreg,dx=dg)\n",
    "# p0_unreg = np.ones_like(g)\n",
    "# p0_unreg = p0_unreg/np.trapz(p0_unreg,dx=dg)\n",
    "p0_reg = Gaussian_pdf(g,g_reg_false,np.maximum(np.sqrt(alpha*g_reg_false),1))\n",
    "p0_reg = p0_reg/np.trapz(p0_reg,dx=dg)"
   ]
  },
  {
   "cell_type": "code",
   "execution_count": 56,
   "id": "21bd35ca",
   "metadata": {},
   "outputs": [
    {
     "name": "stdout",
     "output_type": "stream",
     "text": [
      "mean=50.000000000000014\n",
      "var=149.8824069715697\n"
     ]
    },
    {
     "data": {
      "image/png": "[encoded data removed]",
      "text/plain": [
       "<Figure size 432x288 with 1 Axes>"
      ]
     },
     "metadata": {
      "needs_background": "light"
     },
     "output_type": "display_data"
    }
   ],
   "source": [
    "plt.plot(g,p0_unreg)\n",
    "print(f\"mean={mean_wrt_P(g,p0_unreg,g)}\")\n",
    "print(f\"var={var_wrt_P(g,p0_unreg,g)}\")"
   ]
  },
  {
   "cell_type": "code",
   "execution_count": 8,
   "id": "c4c3575f",
   "metadata": {},
   "outputs": [
    {
     "data": {
      "text/plain": [
       "<matplotlib.lines.Line2D at 0x7f5521043a00>"
      ]
     },
     "execution_count": 8,
     "metadata": {},
     "output_type": "execute_result"
    },
    {
     "data": {
      "image/png": "[encoded data removed]",
      "text/plain": [
       "<Figure size 432x288 with 1 Axes>"
      ]
     },
     "metadata": {
      "needs_background": "light"
     },
     "output_type": "display_data"
    }
   ],
   "source": [
    "plt.plot(g,p0_reg)\n",
    "plt.axvline(g_reg_true,color=\"k\",ls=\"--\")"
   ]
  },
  {
   "cell_type": "code",
   "execution_count": 131,
   "id": "fddf97ee",
   "metadata": {},
   "outputs": [
    {
     "name": "stdout",
     "output_type": "stream",
     "text": [
      "alpha=0.5; colony fitness=0.6795411663967579\n",
      "alpha=0.6457748325074419; colony fitness=0.6756368675829092\n",
      "alpha=0.8340502686000294; colony fitness=0.6711345051092205\n",
      "alpha=1.077217345015942; colony fitness=0.6665613204381888\n",
      "alpha=1.3912797011035622; colony fitness=0.6627692032058701\n",
      "alpha=1.7969068319023138; colony fitness=0.6607060222756925\n",
      "alpha=2.320794416806389; colony fitness=0.6611512440338125\n",
      "alpha=2.9974212515947043; colony fitness=0.6645549296286193\n",
      "alpha=3.871318413405634; colony fitness=0.6710033994765864\n",
      "alpha=5.000000000000001; colony fitness=0.6802571079978871\n"
     ]
    }
   ],
   "source": [
    "alphas = np.logspace(np.log10(0.5),np.log10(5),10)\n",
    "for alpha_idx in range(len(alphas)):\n",
    "    alpha = alphas[alpha_idx]\n",
    "    \n",
    "    p0_reg = Gaussian_pdf(g,g_reg_false,np.maximum(np.sqrt(alpha*g_reg_false),1))\n",
    "    p0_reg = p0_reg/np.trapz(p0_reg,dx=dg)\n",
    "    \n",
    "    fit_range = np.max(fitness(g,sug_true,delta))-np.min(fitness(g,sug_true,delta))\n",
    "    col_fit = (mean_wrt_P(fit,p0_reg,g) - np.min(fitness(g,sug_true,delta)))/fit_range\n",
    "    \n",
    "    print(f\"alpha={alpha}; colony fitness={col_fit}\")"
   ]
  },
  {
   "cell_type": "code",
   "execution_count": 8,
   "id": "30a4df46",
   "metadata": {},
   "outputs": [],
   "source": [
    "p_unreg,p_reg = selection(p0_unreg,p0_reg,sug_true,alpha,delta,g_reg_false)"
   ]
  },
  {
   "cell_type": "code",
   "execution_count": 9,
   "id": "011ae4d8",
   "metadata": {},
   "outputs": [
    {
     "name": "stdout",
     "output_type": "stream",
     "text": [
      "alpha = 5\n",
      "fit_unreg_unsel = 0.842\n",
      "fit_reg_unsel = 0.806\n",
      "fit_unreg_sel = 0.987\n",
      "fit_reg_sel = nan\n"
     ]
    }
   ],
   "source": [
    "#Now calculating fitness:\n",
    "print(f\"alpha = {alpha}\")\n",
    "fit_range = np.max(fitness(g,sug_true,delta))-np.min(fitness(g,sug_true,delta))\n",
    "fit_unreg_unsel = (mean_wrt_P(fit,p0_unreg,g)-np.min(fitness(g,sug_true,delta)))/fit_range\n",
    "fit_reg_unsel = (mean_wrt_P(fit,p0_reg,g)-np.min(fitness(g,sug_true,delta)))/fit_range\n",
    "fit_unreg_sel = (mean_wrt_P(fit,p_unreg,g)-np.min(fitness(g,sug_true,delta)))/fit_range\n",
    "fit_reg_sel = (mean_wrt_P(fit,p_reg,g)-np.min(fitness(g,sug_true,delta)))/fit_range\n",
    "print(f\"fit_unreg_unsel = {round(fit_unreg_unsel,3)}\")\n",
    "print(f\"fit_reg_unsel = {round(fit_reg_unsel,3)}\")\n",
    "print(f\"fit_unreg_sel = {round(fit_unreg_sel,3)}\")\n",
    "print(f\"fit_reg_sel = {round(fit_reg_sel,3)}\")"
   ]
  },
  {
   "cell_type": "code",
   "execution_count": 10,
   "id": "36df573f",
   "metadata": {},
   "outputs": [],
   "source": [
    "#Start with some sugar levels, which are uniformly distributed:\n",
    "sugars_arr = np.linspace(80,400,num=10)\n",
    "p_sugars = np.ones_like(sugars_arr)\n",
    "p_sugars = p_sugars/np.sum(p_sugars)\n",
    "\n",
    "#Now, some values of the expression noise alpha:\n",
    "# alphas = np.logspace(np.log10(0.2),np.log10(5),2)\n",
    "alphas = np.logspace(np.log10(0.5),np.log10(5),5)\n",
    "# deltas = np.logspace(-1,np.log10(25),num=6)\n",
    "sigmas = np.array([1,3,5])\n",
    "\n",
    "#Define the quantities we need. First, colony fitness:\n",
    "col_fit_unreg_unsel = np.zeros((len(alphas),len(sigmas),len(sugars_arr)))\n",
    "col_fit_reg_unsel = np.zeros((len(alphas),len(sigmas),len(sugars_arr)))\n",
    "col_fit_unreg_sel = np.zeros((len(alphas),len(sigmas),len(sugars_arr)))\n",
    "col_fit_reg_sel = np.zeros((len(alphas),len(sigmas),len(sugars_arr)))\n",
    "\n",
    "#Fitness across all sugars:\n",
    "tot_fit_unreg_unsel = np.zeros((len(alphas),len(sigmas)))\n",
    "tot_fit_reg_unsel = np.zeros((len(alphas),len(sigmas)))\n",
    "tot_fit_unreg_sel = np.zeros((len(alphas),len(sigmas)))\n",
    "tot_fit_reg_sel = np.zeros((len(alphas),len(sigmas)))\n",
    "\n",
    "#To compute mutual information, we use the formula I(g;s) = H(g) - H(g|s). For H(g), we need the marginal...\n",
    "#...distributions for all four cases:\n",
    "marg_unreg_unsel = np.zeros((len(alphas),len(sigmas),len(g)))\n",
    "marg_reg_unsel = np.zeros((len(alphas),len(sigmas),len(g)))\n",
    "marg_unreg_sel = np.zeros((len(alphas),len(sigmas),len(g)))\n",
    "marg_reg_sel = np.zeros((len(alphas),len(sigmas),len(g)))\n",
    "\n",
    "#Then we need the conditional entropies H(g|s). We'll calculate these inside the sugar loop:\n",
    "condEnt_unreg_unsel = np.zeros((len(alphas),len(sigmas)))\n",
    "condEnt_reg_unsel = np.zeros((len(alphas),len(sigmas)))\n",
    "condEnt_unreg_sel = np.zeros((len(alphas),len(sigmas)))\n",
    "condEnt_reg_sel = np.zeros((len(alphas),len(sigmas)))\n",
    "\n",
    "#The marginal entropy H(g):\n",
    "ent_unreg_unsel = np.zeros((len(alphas),len(sigmas)))\n",
    "ent_reg_unsel = np.zeros((len(alphas),len(sigmas)))\n",
    "ent_unreg_sel = np.zeros((len(alphas),len(sigmas)))\n",
    "ent_reg_sel = np.zeros((len(alphas),len(sigmas)))\n",
    "\n",
    "#Finally, MI as a function of noise:\n",
    "MI_unreg_unsel = np.zeros((len(alphas),len(sigmas)))\n",
    "MI_reg_unsel = np.zeros((len(alphas),len(sigmas)))\n",
    "MI_unreg_sel = np.zeros((len(alphas),len(sigmas)))\n",
    "MI_reg_sel = np.zeros((len(alphas),len(sigmas)))"
   ]
  },
  {
   "cell_type": "code",
   "execution_count": 11,
   "id": "061aeabc",
   "metadata": {},
   "outputs": [
    {
     "name": "stdout",
     "output_type": "stream",
     "text": [
      "alpha=0.5; sigma=1\n",
      "\n",
      "fit_reg_sel[alpha=0.5][sigma=1][sug=80.0]: 0.9859865328992107\n",
      "fit_reg_sel[alpha=0.5][sigma=1][sug=115.55555555555556]: 0.9915454439534745\n",
      "fit_reg_sel[alpha=0.5][sigma=1][sug=151.11111111111111]: 0.9923771005581841\n",
      "fit_reg_sel[alpha=0.5][sigma=1][sug=186.66666666666669]: 0.9948153057171975\n",
      "fit_reg_sel[alpha=0.5][sigma=1][sug=222.22222222222223]: 0.9955552983663859\n",
      "fit_reg_sel[alpha=0.5][sigma=1][sug=257.77777777777777]: 0.9957646091141478\n",
      "fit_reg_sel[alpha=0.5][sigma=1][sug=293.33333333333337]: 0.9957487801592578\n",
      "fit_reg_sel[alpha=0.5][sigma=1][sug=328.8888888888889]: 0.9956511544411364\n",
      "fit_reg_sel[alpha=0.5][sigma=1][sug=364.44444444444446]: 0.9955462852571662\n",
      "fit_reg_sel[alpha=0.5][sigma=1][sug=400.0]: 0.9954819082262057\n",
      "alpha=0.5; sigma=3\n",
      "\n",
      "fit_reg_sel[alpha=0.5][sigma=3][sug=80.0]: 0.9415130874229671\n",
      "fit_reg_sel[alpha=0.5][sigma=3][sug=115.55555555555556]: 0.965865315787355\n",
      "fit_reg_sel[alpha=0.5][sigma=3][sug=151.11111111111111]: 0.9819396465173343\n",
      "fit_reg_sel[alpha=0.5][sigma=3][sug=186.66666666666669]: 0.9930440152692501\n",
      "fit_reg_sel[alpha=0.5][sigma=3][sug=222.22222222222223]: 0.9954549277061396\n",
      "fit_reg_sel[alpha=0.5][sigma=3][sug=257.77777777777777]: 0.9958450908058458\n",
      "fit_reg_sel[alpha=0.5][sigma=3][sug=293.33333333333337]: 0.995703858369726\n",
      "fit_reg_sel[alpha=0.5][sigma=3][sug=328.8888888888889]: 0.9954514354968658\n",
      "fit_reg_sel[alpha=0.5][sigma=3][sug=364.44444444444446]: 0.9952203362954182\n",
      "fit_reg_sel[alpha=0.5][sigma=3][sug=400.0]: 0.9950568591488328\n",
      "alpha=0.5; sigma=5\n",
      "\n",
      "fit_reg_sel[alpha=0.5][sigma=5][sug=80.0]: 0.927495134528812\n",
      "fit_reg_sel[alpha=0.5][sigma=5][sug=115.55555555555556]: 0.959583977825537\n",
      "fit_reg_sel[alpha=0.5][sigma=5][sug=151.11111111111111]: 0.97999150866835\n",
      "fit_reg_sel[alpha=0.5][sigma=5][sug=186.66666666666669]: 0.9927435564861266\n",
      "fit_reg_sel[alpha=0.5][sigma=5][sug=222.22222222222223]: 0.9954274625578184\n",
      "fit_reg_sel[alpha=0.5][sigma=5][sug=257.77777777777777]: 0.9958518382681372\n",
      "fit_reg_sel[alpha=0.5][sigma=5][sug=293.33333333333337]: 0.9957006374383127\n",
      "fit_reg_sel[alpha=0.5][sigma=5][sug=328.8888888888889]: 0.9954334231756349\n",
      "fit_reg_sel[alpha=0.5][sigma=5][sug=364.44444444444446]: 0.9951903190789514\n",
      "fit_reg_sel[alpha=0.5][sigma=5][sug=400.0]: 0.9950177921197892\n",
      "alpha=0.8891397050194614; sigma=1\n",
      "\n",
      "fit_reg_sel[alpha=0.8891397050194614][sigma=1][sug=80.0]: 0.989313628675335\n",
      "fit_reg_sel[alpha=0.8891397050194614][sigma=1][sug=115.55555555555556]: 0.9916000968810201\n",
      "fit_reg_sel[alpha=0.8891397050194614][sigma=1][sug=151.11111111111111]: 0.990131757981127\n",
      "fit_reg_sel[alpha=0.8891397050194614][sigma=1][sug=186.66666666666669]: 0.9925540679957378\n",
      "fit_reg_sel[alpha=0.8891397050194614][sigma=1][sug=222.22222222222223]: 0.993539998060894\n",
      "fit_reg_sel[alpha=0.8891397050194614][sigma=1][sug=257.77777777777777]: 0.9940271667841827\n",
      "fit_reg_sel[alpha=0.8891397050194614][sigma=1][sug=293.33333333333337]: 0.9942756976936609\n",
      "fit_reg_sel[alpha=0.8891397050194614][sigma=1][sug=328.8888888888889]: 0.9944293845675947\n",
      "fit_reg_sel[alpha=0.8891397050194614][sigma=1][sug=364.44444444444446]: 0.9946203315860019\n",
      "fit_reg_sel[alpha=0.8891397050194614][sigma=1][sug=400.0]: 0.9949251074615753\n",
      "alpha=0.8891397050194614; sigma=3\n",
      "\n",
      "fit_reg_sel[alpha=0.8891397050194614][sigma=3][sug=80.0]: 0.9598333668319878\n",
      "fit_reg_sel[alpha=0.8891397050194614][sigma=3][sug=115.55555555555556]: 0.9759139320189238\n",
      "fit_reg_sel[alpha=0.8891397050194614][sigma=3][sug=151.11111111111111]: 0.9839898235849323\n",
      "fit_reg_sel[alpha=0.8891397050194614][sigma=3][sug=186.66666666666669]: 0.9915270245385458\n",
      "fit_reg_sel[alpha=0.8891397050194614][sigma=3][sug=222.22222222222223]: 0.9934794629529045\n",
      "fit_reg_sel[alpha=0.8891397050194614][sigma=3][sug=257.77777777777777]: 0.9940716451037275\n",
      "fit_reg_sel[alpha=0.8891397050194614][sigma=3][sug=293.33333333333337]: 0.9942507097391547\n",
      "fit_reg_sel[alpha=0.8891397050194614][sigma=3][sug=328.8888888888889]: 0.9943175256994994\n",
      "fit_reg_sel[alpha=0.8891397050194614][sigma=3][sug=364.44444444444446]: 0.9944314091400436\n",
      "fit_reg_sel[alpha=0.8891397050194614][sigma=3][sug=400.0]: 0.9946610147553042\n",
      "alpha=0.8891397050194614; sigma=5\n",
      "\n",
      "fit_reg_sel[alpha=0.8891397050194614][sigma=5][sug=80.0]: 0.9485172080197922\n",
      "fit_reg_sel[alpha=0.8891397050194614][sigma=5][sug=115.55555555555556]: 0.9721020519568818\n",
      "fit_reg_sel[alpha=0.8891397050194614][sigma=5][sug=151.11111111111111]: 0.9828474788280144\n",
      "fit_reg_sel[alpha=0.8891397050194614][sigma=5][sug=186.66666666666669]: 0.9913535585693375\n",
      "fit_reg_sel[alpha=0.8891397050194614][sigma=5][sug=222.22222222222223]: 0.9934635187329074\n",
      "fit_reg_sel[alpha=0.8891397050194614][sigma=5][sug=257.77777777777777]: 0.994075358444193\n",
      "fit_reg_sel[alpha=0.8891397050194614][sigma=5][sug=293.33333333333337]: 0.9942489177039961\n",
      "fit_reg_sel[alpha=0.8891397050194614][sigma=5][sug=328.8888888888889]: 0.9943074404115921\n",
      "fit_reg_sel[alpha=0.8891397050194614][sigma=5][sug=364.44444444444446]: 0.9944140812250726\n",
      "fit_reg_sel[alpha=0.8891397050194614][sigma=5][sug=400.0]: 0.9946370039181377\n",
      "alpha=1.5811388300841898; sigma=1\n",
      "\n",
      "fit_reg_sel[alpha=1.5811388300841898][sigma=1][sug=80.0]: 0.9912870212172419\n",
      "fit_reg_sel[alpha=1.5811388300841898][sigma=1][sug=115.55555555555556]: 0.9903390503507805\n",
      "fit_reg_sel[alpha=1.5811388300841898][sigma=1][sug=151.11111111111111]: 0.986588284867062\n",
      "fit_reg_sel[alpha=1.5811388300841898][sigma=1][sug=186.66666666666669]: 0.9894366079375883\n",
      "fit_reg_sel[alpha=1.5811388300841898][sigma=1][sug=222.22222222222223]: 0.9908178570967382\n",
      "fit_reg_sel[alpha=1.5811388300841898][sigma=1][sug=257.77777777777777]: 0.9916278363364657\n",
      "fit_reg_sel[alpha=1.5811388300841898][sigma=1][sug=293.33333333333337]: 0.9921534974476623\n",
      "fit_reg_sel[alpha=1.5811388300841898][sigma=1][sug=328.8888888888889]: 0.9926269760653509\n",
      "fit_reg_sel[alpha=1.5811388300841898][sigma=1][sug=364.44444444444446]: 0.9932806532926503\n",
      "fit_reg_sel[alpha=1.5811388300841898][sigma=1][sug=400.0]: 0.9940368224650828\n",
      "alpha=1.5811388300841898; sigma=3\n",
      "\n",
      "fit_reg_sel[alpha=1.5811388300841898][sigma=3][sug=80.0]: 0.9724087867319069\n",
      "fit_reg_sel[alpha=1.5811388300841898][sigma=3][sug=115.55555555555556]: 0.9810220616511766\n",
      "fit_reg_sel[alpha=1.5811388300841898][sigma=3][sug=151.11111111111111]: 0.9830374898067356\n",
      "fit_reg_sel[alpha=1.5811388300841898][sigma=3][sug=186.66666666666669]: 0.9888466749165299\n",
      "fit_reg_sel[alpha=1.5811388300841898][sigma=3][sug=222.22222222222223]: 0.9907811288862641\n",
      "fit_reg_sel[alpha=1.5811388300841898][sigma=3][sug=257.77777777777777]: 0.9916521374523329\n",
      "fit_reg_sel[alpha=1.5811388300841898][sigma=3][sug=293.33333333333337]: 0.9921395677364299\n",
      "fit_reg_sel[alpha=1.5811388300841898][sigma=3][sug=328.8888888888889]: 0.9925613959369509\n",
      "fit_reg_sel[alpha=1.5811388300841898][sigma=3][sug=364.44444444444446]: 0.9931567666129228\n",
      "fit_reg_sel[alpha=1.5811388300841898][sigma=3][sug=400.0]: 0.9938464483122118\n",
      "alpha=1.5811388300841898; sigma=5\n",
      "\n",
      "fit_reg_sel[alpha=1.5811388300841898][sigma=5][sug=80.0]: 0.9652210742135124\n",
      "fit_reg_sel[alpha=1.5811388300841898][sigma=5][sug=115.55555555555556]: 0.9787658350713943\n",
      "fit_reg_sel[alpha=1.5811388300841898][sigma=5][sug=151.11111111111111]: 0.9823789602801181\n",
      "fit_reg_sel[alpha=1.5811388300841898][sigma=5][sug=186.66666666666669]: 0.9887475401198721\n",
      "fit_reg_sel[alpha=1.5811388300841898][sigma=5][sug=222.22222222222223]: 0.9907718874927425\n",
      "fit_reg_sel[alpha=1.5811388300841898][sigma=5][sug=257.77777777777777]: 0.9916541547424337\n",
      "fit_reg_sel[alpha=1.5811388300841898][sigma=5][sug=293.33333333333337]: 0.9921385687036055\n",
      "fit_reg_sel[alpha=1.5811388300841898][sigma=5][sug=328.8888888888889]: 0.9925555050576433\n",
      "fit_reg_sel[alpha=1.5811388300841898][sigma=5][sug=364.44444444444446]: 0.9931455495785344\n",
      "fit_reg_sel[alpha=1.5811388300841898][sigma=5][sug=400.0]: 0.9938294368299725\n",
      "alpha=2.8117066259517456; sigma=1\n",
      "\n",
      "fit_reg_sel[alpha=2.8117066259517456][sigma=1][sug=80.0]: 0.9919684214193492\n",
      "fit_reg_sel[alpha=2.8117066259517456][sigma=1][sug=115.55555555555556]: 0.9877441213532288\n",
      "fit_reg_sel[alpha=2.8117066259517456][sigma=1][sug=151.11111111111111]: 0.9815113621896171\n",
      "fit_reg_sel[alpha=2.8117066259517456][sigma=1][sug=186.66666666666669]: 0.9852141428671661\n",
      "fit_reg_sel[alpha=2.8117066259517456][sigma=1][sug=222.22222222222223]: 0.9871658523224639\n",
      "fit_reg_sel[alpha=2.8117066259517456][sigma=1][sug=257.77777777777777]: 0.9883893489154488\n",
      "fit_reg_sel[alpha=2.8117066259517456][sigma=1][sug=293.33333333333337]: 0.9893179132744985\n",
      "fit_reg_sel[alpha=2.8117066259517456][sigma=1][sug=328.8888888888889]: 0.9903825074977903\n"
     ]
    },
    {
     "name": "stdout",
     "output_type": "stream",
     "text": [
      "fit_reg_sel[alpha=2.8117066259517456][sigma=1][sug=364.44444444444446]: 0.9917179234922181\n",
      "fit_reg_sel[alpha=2.8117066259517456][sigma=1][sug=400.0]: 0.9928705854159573\n",
      "alpha=2.8117066259517456; sigma=3\n",
      "\n",
      "fit_reg_sel[alpha=2.8117066259517456][sigma=3][sug=80.0]: 0.9802199064765675\n",
      "fit_reg_sel[alpha=2.8117066259517456][sigma=3][sug=115.55555555555556]: 0.9823080091350049\n",
      "fit_reg_sel[alpha=2.8117066259517456][sigma=3][sug=151.11111111111111]: 0.9794759473391532\n",
      "fit_reg_sel[alpha=2.8117066259517456][sigma=3][sug=186.66666666666669]: 0.9848758860775557\n",
      "fit_reg_sel[alpha=2.8117066259517456][sigma=3][sug=222.22222222222223]: 0.9871432845656526\n",
      "fit_reg_sel[alpha=2.8117066259517456][sigma=3][sug=257.77777777777777]: 0.9884026375859705\n",
      "fit_reg_sel[alpha=2.8117066259517456][sigma=3][sug=293.33333333333337]: 0.9893096592094227\n",
      "fit_reg_sel[alpha=2.8117066259517456][sigma=3][sug=328.8888888888889]: 0.9903366704826432\n",
      "fit_reg_sel[alpha=2.8117066259517456][sigma=3][sug=364.44444444444446]: 0.9916182798091885\n",
      "fit_reg_sel[alpha=2.8117066259517456][sigma=3][sug=400.0]: 0.9927134752767752\n",
      "alpha=2.8117066259517456; sigma=5\n",
      "\n",
      "fit_reg_sel[alpha=2.8117066259517456][sigma=5][sug=80.0]: 0.9757654662137148\n",
      "fit_reg_sel[alpha=2.8117066259517456][sigma=5][sug=115.55555555555556]: 0.9809947336792729\n",
      "fit_reg_sel[alpha=2.8117066259517456][sigma=5][sug=151.11111111111111]: 0.979099616801678\n",
      "fit_reg_sel[alpha=2.8117066259517456][sigma=5][sug=186.66666666666669]: 0.9848194044760965\n",
      "fit_reg_sel[alpha=2.8117066259517456][sigma=5][sug=222.22222222222223]: 0.9871379020616708\n",
      "fit_reg_sel[alpha=2.8117066259517456][sigma=5][sug=257.77777777777777]: 0.9884037349580095\n",
      "fit_reg_sel[alpha=2.8117066259517456][sigma=5][sug=293.33333333333337]: 0.9893090681942563\n",
      "fit_reg_sel[alpha=2.8117066259517456][sigma=5][sug=328.8888888888889]: 0.9903326084101638\n",
      "fit_reg_sel[alpha=2.8117066259517456][sigma=5][sug=364.44444444444446]: 0.9916094354260425\n",
      "fit_reg_sel[alpha=2.8117066259517456][sigma=5][sug=400.0]: 0.9926996594535114\n",
      "alpha=5.000000000000001; sigma=1\n",
      "\n",
      "fit_reg_sel[alpha=5.000000000000001][sigma=1][sug=80.0]: 0.9914697954388524\n",
      "fit_reg_sel[alpha=5.000000000000001][sigma=1][sug=115.55555555555556]: 0.9837031566217647\n",
      "fit_reg_sel[alpha=5.000000000000001][sigma=1][sug=151.11111111111111]: 0.9745295820348561\n",
      "fit_reg_sel[alpha=5.000000000000001][sigma=1][sug=186.66666666666669]: 0.9795459961026356\n",
      "fit_reg_sel[alpha=5.000000000000001][sigma=1][sug=222.22222222222223]: 0.9822897445149142\n",
      "fit_reg_sel[alpha=5.000000000000001][sigma=1][sug=257.77777777777777]: 0.9841231992624156\n",
      "fit_reg_sel[alpha=5.000000000000001][sigma=1][sug=293.33333333333337]: 0.9858308020080326\n",
      "fit_reg_sel[alpha=5.000000000000001][sigma=1][sug=328.8888888888889]: 0.9879010016824732\n",
      "fit_reg_sel[alpha=5.000000000000001][sigma=1][sug=364.44444444444446]: 0.9899438810938733\n",
      "fit_reg_sel[alpha=5.000000000000001][sigma=1][sug=400.0]: 0.991302496077761\n",
      "alpha=5.000000000000001; sigma=3\n",
      "\n",
      "fit_reg_sel[alpha=5.000000000000001][sigma=3][sug=80.0]: 0.9843200490648063\n",
      "fit_reg_sel[alpha=5.000000000000001][sigma=3][sug=115.55555555555556]: 0.9805632293838502\n",
      "fit_reg_sel[alpha=5.000000000000001][sigma=3][sug=151.11111111111111]: 0.973365785035811\n",
      "fit_reg_sel[alpha=5.000000000000001][sigma=3][sug=186.66666666666669]: 0.9793514554003439\n",
      "fit_reg_sel[alpha=5.000000000000001][sigma=3][sug=222.22222222222223]: 0.9822758094069766\n",
      "fit_reg_sel[alpha=5.000000000000001][sigma=3][sug=257.77777777777777]: 0.9841312449860814\n",
      "fit_reg_sel[alpha=5.000000000000001][sigma=3][sug=293.33333333333337]: 0.9858244851211826\n",
      "fit_reg_sel[alpha=5.000000000000001][sigma=3][sug=328.8888888888889]: 0.9878585541693967\n",
      "fit_reg_sel[alpha=5.000000000000001][sigma=3][sug=364.44444444444446]: 0.9898510230489369\n",
      "fit_reg_sel[alpha=5.000000000000001][sigma=3][sug=400.0]: 0.9911632560712853\n",
      "alpha=5.000000000000001; sigma=5\n",
      "\n",
      "fit_reg_sel[alpha=5.000000000000001][sigma=5][sug=80.0]: 0.9816157228701058\n",
      "fit_reg_sel[alpha=5.000000000000001][sigma=5][sug=115.55555555555556]: 0.9798064151398717\n",
      "fit_reg_sel[alpha=5.000000000000001][sigma=5][sug=151.11111111111111]: 0.9731514179406375\n",
      "fit_reg_sel[alpha=5.000000000000001][sigma=5][sug=186.66666666666669]: 0.9793192331445828\n",
      "fit_reg_sel[alpha=5.000000000000001][sigma=5][sug=222.22222222222223]: 0.9822726625789119\n",
      "fit_reg_sel[alpha=5.000000000000001][sigma=5][sug=257.77777777777777]: 0.9841319213428906\n",
      "fit_reg_sel[alpha=5.000000000000001][sigma=5][sug=293.33333333333337]: 0.985824035943431\n",
      "fit_reg_sel[alpha=5.000000000000001][sigma=5][sug=328.8888888888889]: 0.9878548669745949\n",
      "fit_reg_sel[alpha=5.000000000000001][sigma=5][sug=364.44444444444446]: 0.9898429115036164\n",
      "fit_reg_sel[alpha=5.000000000000001][sigma=5][sug=400.0]: 0.991151141455443\n"
     ]
    }
   ],
   "source": [
    "for alpha_idx in range(len(alphas)):\n",
    "    alpha = alphas[alpha_idx]\n",
    "    for sigma_idx in range(len(sigmas)):\n",
    "        sigma_sug = sigmas[sigma_idx]\n",
    "        print(f\"alpha={alpha}; sigma={sigma_sug}\\n\")\n",
    "        #Defining p0_unreg:\n",
    "        g_peak = 0.5*(g_min+g_max)\n",
    "#         p0_unreg = Gaussian(g,g_peak,np.maximum(np.sqrt(alpha*g_peak),1))\n",
    "        p0_unreg = Gaussian_pdf(g,g_peak,np.maximum(np.sqrt(alpha*g_peak),1)).astype('float64')\n",
    "\n",
    "        #Now looping over sugars:\n",
    "        for sug_idx in range(len(sugars_arr)):\n",
    "            #Sugar, fitness function for this sugar and the true g_reg:\n",
    "            sug_true = sugars_arr[sug_idx]\n",
    "            fit = fitness(g,sug_true,delta)\n",
    "            g_reg_true = g[np.argmax(fit)]\n",
    "            \n",
    "            #Now the pdf of perceived sugar:\n",
    "            p_sug_false = Gaussian_pdf(sug_range_unq,sug_true,sigma_sug*sug_true)\n",
    "            p_sug_false = p_sug_false/np.trapz(p_sug_false,dx=d_sug)\n",
    "\n",
    "            #Creating the pdf for g:\n",
    "            pdf_g = np.zeros_like(opt_g_unq)\n",
    "            for g_idx in range(len(opt_g_unq)):\n",
    "                pdf_g[g_idx] = p_sug_false[g_idx]*poly_7d(opt_g_unq[g_idx])\n",
    "            #Normalizing:\n",
    "            pdf_g = pdf_g/np.trapz(pdf_g,dx=dg)\n",
    "            g_reg_false = mean_wrt_P(opt_g_unq,pdf_g,opt_g_unq)\n",
    "            \n",
    "            #The fitness range:\n",
    "            fit_range = np.max(fitness(g,sug_true,delta))-np.min(fitness(g,sug_true,delta))\n",
    "            \n",
    "            #Defining p0_reg\n",
    "#             p0_reg = Gaussian(g,g_reg,np.maximum(np.sqrt(alpha*g_reg),1))\n",
    "            p0_reg = Gaussian_pdf(g,g_reg_false,np.maximum(np.sqrt(alpha*g_reg_false),1)).astype('float64')\n",
    "            p0_reg = p0_reg/np.trapz(p0_reg,dx=dg)\n",
    "\n",
    "            #Calculating the normalized colony fitness (dividing by max possible fitness, f(g_reg,s)) already for p0_unreg and p0_reg:\n",
    "            col_fit_unreg_unsel[alpha_idx][sigma_idx][sug_idx] = (mean_wrt_P(fit,p0_unreg,g)-np.min(fitness(g,sug_true,delta)))/fit_range\n",
    "            col_fit_reg_unsel[alpha_idx][sigma_idx][sug_idx] = (mean_wrt_P(fit,p0_reg,g)-np.min(fitness(g,sug_true,delta)))/fit_range\n",
    "            #Calculating the marginals for these above two cases:\n",
    "            marg_unreg_unsel[alpha_idx][sigma_idx] = marg_unreg_unsel[alpha_idx][sigma_idx] + p_sugars[sug_idx]*p0_unreg\n",
    "            marg_reg_unsel[alpha_idx][sigma_idx] = marg_reg_unsel[alpha_idx][sigma_idx] + p_sugars[sug_idx]*p0_reg\n",
    "            #Now conditional entropies:\n",
    "            dummy = np.clip(p0_unreg,0,None)\n",
    "            dummy = dummy[dummy.nonzero()]\n",
    "            condEnt_unreg_unsel[alpha_idx][sigma_idx] = condEnt_unreg_unsel[alpha_idx][sigma_idx] - p_sugars[sug_idx]*np.sum(dummy*np.log2(dummy))\n",
    "            dummy = np.clip(p0_reg,0,None)\n",
    "            dummy = dummy[dummy.nonzero()]\n",
    "            condEnt_reg_unsel[alpha_idx][sigma_idx] = condEnt_reg_unsel[alpha_idx][sigma_idx] - p_sugars[sug_idx]*np.sum(dummy*np.log2(dummy))\n",
    "\n",
    "            #Now running the solver, i.e. letting selection take its course:\n",
    "            p_unreg,p_reg = selection(p0_unreg,p0_reg,sug_true,alpha,delta,g_reg_false)\n",
    "\n",
    "            #Colony fitness for p_unreg and p_reg:\n",
    "            col_fit_unreg_sel[alpha_idx][sigma_idx][sug_idx] = (mean_wrt_P(fit,p_unreg,g)-np.min(fitness(g,sug_true,delta)))/fit_range\n",
    "            col_fit_reg_sel[alpha_idx][sigma_idx][sug_idx] = (mean_wrt_P(fit,p_reg,g)-np.min(fitness(g,sug_true,delta)))/fit_range\n",
    "            print(f\"fit_reg_sel[alpha={alpha}][sigma={sigma_sug}][sug={sug_true}]: {col_fit_reg_sel[alpha_idx][sigma_idx][sug_idx]}\")\n",
    "            #Now their marginals:\n",
    "            marg_unreg_sel[alpha_idx][sigma_idx] = marg_unreg_sel[alpha_idx][sigma_idx] + p_sugars[sug_idx]*p_unreg\n",
    "            marg_reg_sel[alpha_idx][sigma_idx] = marg_reg_sel[alpha_idx][sigma_idx] + p_sugars[sug_idx]*p_reg        \n",
    "            #The conditional entropy for p_unreg and p_reg, given by - P(s) sum_g P_reg(g|s) log2 P_reg(g|s):\n",
    "            dummy = np.clip(p_unreg,0,None)\n",
    "            dummy = dummy[dummy.nonzero()]\n",
    "            condEnt_unreg_sel[alpha_idx][sigma_idx] = condEnt_unreg_sel[alpha_idx][sigma_idx] - p_sugars[sug_idx]*np.sum(dummy*np.log2(dummy))\n",
    "            dummy = np.clip(p_reg,0,None)\n",
    "            dummy = dummy[dummy.nonzero()]\n",
    "            condEnt_reg_sel[alpha_idx][sigma_idx] = condEnt_reg_sel[alpha_idx][sigma_idx] - p_sugars[sug_idx]*np.sum(dummy*np.log2(dummy))\n",
    "\n",
    "        #Ending the sugar loop. First we compute the total fitness across all sugars:\n",
    "        tot_fit_unreg_unsel[alpha_idx][sigma_idx] = np.sum(col_fit_unreg_unsel[alpha_idx][sigma_idx]*p_sugars)\n",
    "        tot_fit_reg_unsel[alpha_idx][sigma_idx] = np.sum(col_fit_reg_unsel[alpha_idx][sigma_idx]*p_sugars)\n",
    "        tot_fit_unreg_sel[alpha_idx][sigma_idx] = np.sum(col_fit_unreg_sel[alpha_idx][sigma_idx]*p_sugars)\n",
    "        tot_fit_reg_sel[alpha_idx][sigma_idx] = np.sum(col_fit_reg_sel[alpha_idx][sigma_idx]*p_sugars)\n",
    "\n",
    "        #Now calculating the marginal entropies and information:\n",
    "        dummy = np.clip(marg_unreg_unsel[alpha_idx][sigma_idx],0,None)\n",
    "        dummy = dummy[dummy.nonzero()]\n",
    "        ent_unreg_unsel[alpha_idx][sigma_idx] = -np.sum(dummy*np.log2(dummy))\n",
    "        MI_unreg_unsel[alpha_idx][sigma_idx] = ent_unreg_unsel[alpha_idx][sigma_idx] - condEnt_unreg_unsel[alpha_idx][sigma_idx]\n",
    "\n",
    "        dummy = np.clip(marg_reg_unsel[alpha_idx][sigma_idx],0,None)\n",
    "        dummy = dummy[dummy.nonzero()]\n",
    "        ent_reg_unsel[alpha_idx][sigma_idx] = -np.sum(dummy*np.log2(dummy))\n",
    "        MI_reg_unsel[alpha_idx][sigma_idx] = ent_reg_unsel[alpha_idx][sigma_idx] - condEnt_reg_unsel[alpha_idx][sigma_idx]\n",
    "\n",
    "        dummy = np.clip(marg_unreg_sel[alpha_idx][sigma_idx],0,None)\n",
    "        dummy = dummy[dummy.nonzero()]\n",
    "        ent_unreg_sel[alpha_idx][sigma_idx] = -np.sum(dummy*np.log2(dummy))\n",
    "        MI_unreg_sel[alpha_idx][sigma_idx] = ent_unreg_sel[alpha_idx][sigma_idx] - condEnt_unreg_sel[alpha_idx][sigma_idx]\n",
    "\n",
    "        dummy = np.clip(marg_reg_sel[alpha_idx][sigma_idx],0,None)\n",
    "        dummy = dummy[dummy.nonzero()]\n",
    "        ent_reg_sel[alpha_idx][sigma_idx] = -np.sum(dummy*np.log2(dummy))\n",
    "        MI_reg_sel[alpha_idx][sigma_idx] = ent_reg_sel[alpha_idx][sigma_idx] - condEnt_reg_sel[alpha_idx][sigma_idx]\n",
    "        \n",
    "#Writing to files:\n",
    "np.savetxt(\"2b_fit_unreg_unsel.txt\",tot_fit_unreg_unsel.flatten())\n",
    "np.savetxt(\"2b_fit_reg_unsel.txt\",tot_fit_reg_unsel.flatten())\n",
    "np.savetxt(\"2b_fit_unreg_sel.txt\",tot_fit_unreg_sel.flatten())\n",
    "np.savetxt(\"2b_fit_reg_sel.txt\",tot_fit_reg_sel.flatten())\n",
    "\n",
    "np.savetxt(\"2b_MI_unreg_unsel.txt\",MI_unreg_unsel.flatten())\n",
    "np.savetxt(\"2b_MI_reg_unsel.txt\",MI_reg_unsel.flatten())\n",
    "np.savetxt(\"2b_MI_unreg_sel.txt\",MI_unreg_sel.flatten())\n",
    "np.savetxt(\"2b_MI_reg_sel.txt\",MI_reg_sel.flatten())"
   ]
  },
  {
   "cell_type": "code",
   "execution_count": 17,
   "id": "250f1e70",
   "metadata": {},
   "outputs": [],
   "source": [
    "#Reading from files:\n",
    "tot_fit_unreg_unsel = np.loadtxt(\"2b_fit_unreg_unsel.txt\").reshape(len(alphas),len(sigmas))\n",
    "tot_fit_reg_unsel = np.loadtxt(\"2b_fit_reg_unsel.txt\").reshape(len(alphas),len(sigmas))\n",
    "tot_fit_unreg_sel = np.loadtxt(\"2b_fit_unreg_sel.txt\").reshape(len(alphas),len(sigmas))\n",
    "tot_fit_reg_sel = np.loadtxt(\"2b_fit_reg_sel.txt\").reshape(len(alphas),len(sigmas))\n",
    "\n",
    "MI_unreg_unsel = np.loadtxt(\"2b_MI_unreg_unsel.txt\").reshape(len(alphas),len(sigmas))\n",
    "MI_reg_unsel = np.loadtxt(\"2b_MI_reg_unsel.txt\").reshape(len(alphas),len(sigmas))\n",
    "MI_unreg_sel = np.loadtxt(\"2b_MI_unreg_sel.txt\").reshape(len(alphas),len(sigmas))\n",
    "MI_reg_sel = np.loadtxt(\"2b_MI_reg_sel.txt\").reshape(len(alphas),len(sigmas))"
   ]
  },
  {
   "cell_type": "code",
   "execution_count": 18,
   "id": "2227f13d",
   "metadata": {},
   "outputs": [
    {
     "data": {
      "text/plain": [
       "array([[0.99384724, 0.98550946, 0.98324357],\n",
       "       [0.99294172, 0.98764759, 0.98599666],\n",
       "       [0.99121946, 0.98794525, 0.98692085],\n",
       "       [0.98862822, 0.98664038, 0.98601716],\n",
       "       [0.98506397, 0.98387049, 0.98349703]])"
      ]
     },
     "execution_count": 18,
     "metadata": {},
     "output_type": "execute_result"
    }
   ],
   "source": [
    "tot_fit_reg_sel"
   ]
  },
  {
   "cell_type": "code",
   "execution_count": 133,
   "id": "4af054d2",
   "metadata": {},
   "outputs": [
    {
     "data": {
      "image/png": "[encoded data removed]",
      "text/plain": [
       "<Figure size 483.84x423.36 with 2 Axes>"
      ]
     },
     "metadata": {
      "needs_background": "light"
     },
     "output_type": "display_data"
    }
   ],
   "source": [
    "phase_diag = (tot_fit_reg_sel.T)\n",
    "# cbar_lim = np.maximum(np.abs(np.max(phase_diag)),np.abs(np.min(phase_diag)))\n",
    "fig,ax = plt.subplots(1,1,figsize=(4.8*1.4,4.2*1.4),constrained_layout='true')\n",
    "pic=ax.imshow(phase_diag,cmap='cividis',aspect='equal',origin='lower')\n",
    "cbar = plt.colorbar(pic,orientation=\"horizontal\")\n",
    "cbar.set_label(r\"Fitness (normalized)\",fontsize=16)\n",
    "plt.xticks(ticks=range(5),labels=np.around(np.logspace(np.log10(0.5),np.log10(5),5),decimals=2))\n",
    "plt.yticks(ticks=range(3),labels=np.around(np.array([1,3,5]),decimals=1))\n",
    "ax.tick_params(axis='both', which='major', labelsize=12)\n",
    "ax.tick_params(axis='both', which='minor', labelsize=10)\n",
    "ax.set_xlabel(r\"Expression noise $\\alpha$\",fontsize=18)\n",
    "ax.set_ylabel(r\"Sensing error $\\delta$\",fontsize=18)\n",
    "ax.set_title(f\"Fitness with reg., post-sel.\",fontsize=20)\n",
    "# # fig.savefig(\"2a_fitness_phase_diagram.svg\", format=\"svg\")\n",
    "fig.savefig(fr\"2b_fitness_reg_sel_vs_alpha_sigma,delta={np.around(delta,2)}.eps\", format=\"eps\")"
   ]
  },
  {
   "cell_type": "code",
   "execution_count": 78,
   "id": "6d2561d9",
   "metadata": {},
   "outputs": [
    {
     "data": {
      "text/plain": [
       "Text(0.5, 1.0, 'Fitness')"
      ]
     },
     "execution_count": 78,
     "metadata": {},
     "output_type": "execute_result"
    },
    {
     "data": {
      "image/png": "[encoded data removed]",
      "text/plain": [
       "<Figure size 483.84x262.08 with 1 Axes>"
      ]
     },
     "metadata": {
      "needs_background": "light"
     },
     "output_type": "display_data"
    }
   ],
   "source": [
    "from matplotlib.ticker import FuncFormatter\n",
    "\n",
    "#x-ticks:\n",
    "x_ticks = np.around(alphas,2)\n",
    "\n",
    "fig,ax = plt.subplots(1,1,figsize=(4.8*1.4,2.6*1.4),constrained_layout='true')\n",
    "ax.set_xscale('log')\n",
    "ax.tick_params(axis='both', which='major', labelsize=12)\n",
    "ax.tick_params(axis='both', which='minor', labelsize=10)\n",
    "ax.scatter(alphas,tot_fit_unreg_sel[:,0])\n",
    "ax.set_xticks(alphas)\n",
    "ax.set_xticklabels(np.around(alphas,2))\n",
    "ax.set_xlabel(r\"Expression noise $\\alpha$\",fontsize=18)\n",
    "ax.set_ylabel(r\"Average fitness\",fontsize=18)\n",
    "ax.set_title(f\"Fitness\",fontsize=20)"
   ]
  }
 ],
 "metadata": {
  "kernelspec": {
   "display_name": "Python 3 (ipykernel)",
   "language": "python",
   "name": "python3"
  },
  "language_info": {
   "codemirror_mode": {
    "name": "ipython",
    "version": 3
   },
   "file_extension": ".py",
   "mimetype": "text/x-python",
   "name": "python",
   "nbconvert_exporter": "python",
   "pygments_lexer": "ipython3",
   "version": "3.9.12"
  }
 },
 "nbformat": 4,
 "nbformat_minor": 5
}
