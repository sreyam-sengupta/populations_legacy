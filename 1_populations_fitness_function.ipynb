{
 "cells": [
  {
   "cell_type": "code",
   "execution_count": 2,
   "id": "4289efc8",
   "metadata": {},
   "outputs": [
    {
     "data": {
      "text/html": [
       "<style>.container { width:100% !important; }</style>"
      ],
      "text/plain": [
       "<IPython.core.display.HTML object>"
      ]
     },
     "metadata": {},
     "output_type": "display_data"
    }
   ],
   "source": [
    "import math\n",
    "import numpy as np\n",
    "import random as rand\n",
    "from numba import jit,int64,float64\n",
    "import matplotlib.pyplot as plt\n",
    "%matplotlib inline\n",
    "\n",
    "#To increase cell width:\n",
    "from IPython.display import display, HTML\n",
    "display(HTML(\"<style>.container { width:100% !important; }</style>\"))"
   ]
  },
  {
   "cell_type": "code",
   "execution_count": 3,
   "id": "e885b9aa",
   "metadata": {},
   "outputs": [
    {
     "name": "stdout",
     "output_type": "stream",
     "text": [
      "K = 1; 0.5*dg/dt = 1250.0\n",
      "D = 250.0; 0.5*dg**2/dt = 500.00000000000006\n"
     ]
    }
   ],
   "source": [
    "#The spacetime parameters. Let the population distribution of gene expression level be g:\n",
    "g_min = 0\n",
    "g_max = 100\n",
    "dg = 0.4\n",
    "#Defining a g_ghost which contains two extra `ghost' points at the edges:\n",
    "g_ghost = np.arange(g_min-dg,g_max+2*dg,dg)\n",
    "g = np.array(g_ghost[1:-1])\n",
    "\n",
    "\n",
    "#Time:\n",
    "dt = 0.00016\n",
    "T = 20\n",
    "Nt = int(T/dt)\n",
    "TimeRange = np.arange(0,T,dt)\n",
    "\n",
    "#How the population distributions evolve in the absence of selection. First, we define the free parameters...\n",
    "#...K and alpha, and from those D. K sets the timescale of population response to the regulated mean...\n",
    "#...which is set instantaneously. We may choose time units such that K=1.\n",
    "K = 1\n",
    "#The strength of noise:\n",
    "alpha = 5\n",
    "#The spread, with the preferred expression level (peak) now set to 50% of maximum.:\n",
    "g_peak = 0.5*(g_min+g_max)\n",
    "D = alpha*K*g_peak\n",
    "\n",
    "#Checks:\n",
    "print(f\"K = {K}; 0.5*dg/dt = {0.5*dg/dt}\")\n",
    "print(f\"D = {D}; 0.5*dg**2/dt = {0.5*dg**2/dt}\")\n",
    "\n",
    "#Stability check:\n",
    "flag_stability=0\n",
    "if (K>=int(0.5*dg/dt) or D>=int(0.5*dg**2/dt)):\n",
    "    flag_stability=1\n",
    "    print(\"Warning! FTCS unstable.\")\n",
    "    \n",
    "#Now let's add selection to the picture. First, defining the relative differential growth rate delta. We multiply this by 0.17/g_max to get Dekel delta.\n",
    "delta = .17/g_max\n",
    "\n",
    "#Color-blind friendly colors to plot:\n",
    "CB_colors = ['#377eb8', '#ff7f00', '#4daf4a','#f781bf', '#a65628', '#984ea3','#999999', '#e41a1c', '#dede00']"
   ]
  },
  {
   "cell_type": "code",
   "execution_count": 4,
   "id": "953adf61",
   "metadata": {},
   "outputs": [],
   "source": [
    "#First derivative, central difference method (used in the potential term K*d/dg (g*P)):\n",
    "@jit(\"float64[:](float64[:],float64)\",nopython=True)\n",
    "def derv1(func,dx):\n",
    "    func_left = func[0:-2]\n",
    "    func_right = func[2:]\n",
    "    #Below we calculate the first derivative using the central difference method:\n",
    "    derivative = (func_right - func_left)/(2*dx)\n",
    "    return derivative\n",
    "\n",
    "#Second derivative using central difference, used in the diffusion term (D*d2/dg2 (P)):\n",
    "@jit(\"float64[:](float64[:],float64)\",nopython=True)\n",
    "def derv2(func,dx):\n",
    "    func_left = func[0:-2]\n",
    "    func_right = func[2:]\n",
    "    func_center = func[1:-1]\n",
    "    #Below we calculate the second derivative, again using central difference method:\n",
    "    derivative2 = (func_right + func_left - 2*func_center)/(dx**2)\n",
    "    return derivative2\n",
    "\n",
    "#Defining a Gaussian pdf - we'll need it for P(g,t=0), the initial distribution:\n",
    "@jit(nopython=True)\n",
    "def Gaussian(x,mu,sigma):\n",
    "    dist = 1/(sigma*np.sqrt(2*np.pi))*np.exp(-0.5*((x-mu)/sigma)**2)\n",
    "    return dist\n",
    "\n",
    "#The function to calculate <f> dynamically, i.e. int_g f(g,s) P(g,t):\n",
    "@jit(nopython=True)\n",
    "def mean_wrt_P(func,P,g):\n",
    "    integrand = func*P\n",
    "    integral = np.trapz(integrand,g)\n",
    "    return integral\n",
    "\n",
    "#Defining the fitness function:\n",
    "# @jit([\"float64[:](float64[:],float64,float64)\",\"float64(float64,float64,float64)\"],nopython=True)\n",
    "def fitness(g,s,delta):\n",
    "#     fit = delta*((.17/g_max)*(g*s/(400+s) - (2/17)*g/(1-g/(1.8*g_max))) + 1)\n",
    "    return delta*(g*s/(400+s) - (2/17)*g/(1-g/(1.8*g_max)))\n",
    "\n",
    "#Putting the solver inside a function:\n",
    "# @jit(\"float64[:,:](float64[:],float64[:],float64,float64,float64)\",nopython=True)\n",
    "@jit(nopython=True)\n",
    "def selection(p0_unreg,p0_reg,s,alpha,A):\n",
    "    #First, define the fitness function:\n",
    "    fit = delta*(g*s/(400+s) - (2/17)*g/(1-g/(1.8*g_max)))\n",
    "    g_reg = g[np.argmax(fit)]\n",
    "\n",
    "    #Now let's compare the effects of regulation vs selection:\n",
    "    p_unreg = p0_unreg\n",
    "    p_reg = p0_reg\n",
    "    flag_unreg = 0\n",
    "    flag_reg = 0\n",
    "    \n",
    "#     #Storing dynamic fitness:\n",
    "#     dyn_fit_unreg = np.zeros_like\n",
    "\n",
    "    #Now evolve it:\n",
    "    for t in range(Nt):\n",
    "        #Setting the diffusion constants, unregulated first:\n",
    "        g_mean_unreg = np.trapz(g*p_unreg,g)\n",
    "        if (alpha*g_mean_unreg<=1):\n",
    "            flag_unreg = 1\n",
    "            D_unreg = 1.1\n",
    "        elif (alpha*K*g_mean_unreg>=int(0.5*dg**2/dt)):\n",
    "            flag_unreg = 1\n",
    "            D_unreg = 0.9*(0.5*dg**2/dt)\n",
    "        else:\n",
    "            D_unreg = alpha*K*g_mean_unreg\n",
    "\n",
    "        #Regulated:\n",
    "        g_mean_reg = np.trapz(g*p_unreg,g)\n",
    "        if (alpha*g_mean_reg<=1):\n",
    "            flag_reg = 1\n",
    "            D_reg = 1.1\n",
    "        elif (alpha*K*g_mean_reg>=int(0.5*dg**2/dt)):\n",
    "            flag_reg = 1\n",
    "            D_reg = 0.9*(0.5*dg**2/dt)\n",
    "        else:\n",
    "            D_reg = alpha*K*g_mean_reg\n",
    "\n",
    "    #     #Checks:\n",
    "    #     if (t%10==0):\n",
    "    #         print(f\"\\nt={t}; g_mean_unreg={round(g_mean_unreg,2)}; D_unreg={round(D_unreg,2)}; max allowed={0.5*dg**2/dt}\")\n",
    "    #         print(f\"t={t}; g_mean_reg={round(g_mean_reg,2)}; D_reg={round(D_reg,2)}; max allowed={0.5*dg**2/dt}\")        \n",
    "\n",
    "        #Now creating the expanded p's, with ghost points. The bulk points are the same in each. Unregulated:\n",
    "        p_unreg_ghost = np.zeros(len(p_unreg)+2)\n",
    "        p_unreg_ghost[1:-1] = p_unreg\n",
    "        #Regulated:\n",
    "        p_reg_ghost = np.zeros(len(p_reg)+2)\n",
    "        p_reg_ghost[1:-1] = p_reg\n",
    "\n",
    "        #Setting the value of the ghost points. This represents the zero flux boundary conditions. Unregulated:\n",
    "        p_unreg_ghost[0] = p_unreg[1] + 2*dg*(K/D_unreg)*(g[0]-g_peak)*p_unreg[0]\n",
    "        p_unreg_ghost[-1] = p_unreg[-2] + 2*dg*(K/D_unreg)*(g_peak-g[-1])*p_unreg[-1]\n",
    "        #Regulated:\n",
    "        p_reg_ghost[0] = p_reg[1] + 2*dg*(K/D_reg)*(g[0]-g_reg)*p_reg[0]\n",
    "        p_reg_ghost[-1] = p_reg[-2] + 2*dg*(K/D_reg)*(g_reg-g[-1])*p_reg[-1]    \n",
    "\n",
    "        #Now to solve the equation. Unregulated first:\n",
    "        p_unreg = p_unreg + dt*((fit - mean_wrt_P(fit,p_unreg,g))*p_unreg \\\n",
    "                    + K*derv1((g_ghost-g_peak)*p_unreg_ghost,dg) + D_unreg*derv2(p_unreg_ghost,dg))\n",
    "        p_reg = p_reg + dt*((fit - mean_wrt_P(fit,p_reg,g))*p_reg \\\n",
    "                    + K*derv1((g_ghost-g_reg)*p_reg_ghost,dg) + D_reg*derv2(p_reg_ghost,dg))\n",
    "\n",
    "        #Finally, for the edge cases, we normalize:\n",
    "        if (flag_unreg==1):\n",
    "            p_unreg = p_unreg/np.trapz(p_unreg,dx=dg)\n",
    "        if (flag_reg==1):\n",
    "            p_reg = p_reg/np.trapz(p_reg,dx=dg)\n",
    "            \n",
    "    return p_unreg,p_reg"
   ]
  },
  {
   "cell_type": "code",
   "execution_count": 9,
   "id": "a65ea4a8",
   "metadata": {},
   "outputs": [
    {
     "name": "stdout",
     "output_type": "stream",
     "text": [
      "g_reg=28.8\n"
     ]
    }
   ],
   "source": [
    "#Choosing a sugar level and finding the regulation peak:\n",
    "sug = 80\n",
    "fit = fitness(g,sug,delta)\n",
    "g_reg = g[np.argmax(fit)]\n",
    "print(f\"g_reg={round(g_reg,2)}\")\n",
    "\n",
    "#Generating the initial distributions:\n",
    "g_peak = 0.5*(g_min+g_max)\n",
    "#We don't want a standard deviation of 0, so even if the g_reg is 0, we set the s.d. of p0_reg to 1:\n",
    "p0_unreg = Gaussian(g,g_peak,np.maximum(np.sqrt(4*alpha*g_peak),1))\n",
    "p0_unreg = p0_unreg/np.trapz(p0_unreg,dx=dg)\n",
    "# p0_unreg = np.ones_like(g)\n",
    "# p0_unreg = p0_unreg/np.trapz(p0_unreg,dx=dg)\n",
    "p0_reg = Gaussian(g,g_reg,np.maximum(np.sqrt(4*alpha*g_reg),1))\n",
    "p0_reg = p0_reg/np.trapz(p0_reg,dx=dg)"
   ]
  },
  {
   "cell_type": "code",
   "execution_count": 7,
   "id": "32349618",
   "metadata": {},
   "outputs": [
    {
     "data": {
      "image/png": "[encoded data removed]",
      "text/plain": [
       "<Figure size 552.96x449.28 with 2 Axes>"
      ]
     },
     "metadata": {
      "needs_background": "light"
     },
     "output_type": "display_data"
    }
   ],
   "source": [
    "#Let's see plots:\n",
    "#Now a contour plot. First define the mesh:\n",
    "sugars_contour = 6*g\n",
    "S,G = np.meshgrid(sugars_contour,g)\n",
    "f_2D = fitness(G,S,delta)\n",
    "fig, ax = plt.subplots(1,1,figsize=(6.4*1.2,5.2*1.2))\n",
    "\n",
    "#Plotting the contour plot itself:\n",
    "img = ax.contourf(S,G,f_2D, levels=100)\n",
    "cbar=plt.colorbar(img)\n",
    "cbar.set_label(r\"$f(g,s)$\",fontsize=16)\n",
    "#Plotting the optimum expression level:\n",
    "opt_g = np.empty_like(sugars_contour)\n",
    "i=0\n",
    "for s in sugars_contour:\n",
    "    fit = fitness(g,s,delta)\n",
    "    opt_g[i] = g[np.argmax(fit)]\n",
    "    i+=1\n",
    "plt.plot(sugars_contour,opt_g,'k:')\n",
    "ax.tick_params(axis='both', which='major', labelsize=12)\n",
    "ax.tick_params(axis='both', which='minor', labelsize=10)\n",
    "plt.xlabel(r\"Sugar concentration $s$ ($\\mu$M)\",fontsize=18)\n",
    "plt.ylabel(\"Gene expression $g$ (arbit.)\",fontsize=18)\n",
    "plt.title(\"Fitness $f(g,s)$\",fontsize=20)\n",
    "# fig.savefig(\"1_fitness_landscape.svg\",format=\"svg\")\n",
    "fig.savefig(\"1_fitness_landscape.eps\",format=\"eps\")"
   ]
  },
  {
   "cell_type": "code",
   "execution_count": null,
   "id": "03a9ed5c",
   "metadata": {},
   "outputs": [],
   "source": []
  }
 ],
 "metadata": {
  "kernelspec": {
   "display_name": "Python 3 (ipykernel)",
   "language": "python",
   "name": "python3"
  },
  "language_info": {
   "codemirror_mode": {
    "name": "ipython",
    "version": 3
   },
   "file_extension": ".py",
   "mimetype": "text/x-python",
   "name": "python",
   "nbconvert_exporter": "python",
   "pygments_lexer": "ipython3",
   "version": "3.9.12"
  }
 },
 "nbformat": 4,
 "nbformat_minor": 5
}
