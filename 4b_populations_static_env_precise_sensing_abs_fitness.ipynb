{
 "cells": [
  {
   "cell_type": "code",
   "execution_count": 1,
   "id": "4289efc8",
   "metadata": {},
   "outputs": [
    {
     "data": {
      "text/html": [
       "<style>.container { width:100% !important; }</style>"
      ],
      "text/plain": [
       "<IPython.core.display.HTML object>"
      ]
     },
     "metadata": {},
     "output_type": "display_data"
    },
    {
     "name": "stdout",
     "output_type": "stream",
     "text": [
      "K = 1; 0.5*dg/dt = 1250.0\n",
      "D = 50.0; 0.5*dg**2/dt = 500.00000000000006\n"
     ]
    }
   ],
   "source": [
    "import math\n",
    "import numpy as np\n",
    "import random as rand\n",
    "from numba import jit,int64,float64\n",
    "import matplotlib.pyplot as plt\n",
    "%matplotlib inline\n",
    "\n",
    "#To increase cell width:\n",
    "from IPython.display import display, HTML\n",
    "display(HTML(\"<style>.container { width:100% !important; }</style>\"))\n",
    "\n",
    "#Color-blind friendly colors to plot:\n",
    "CB_colors = ['#377eb8', '#ff7f00', '#4daf4a','#f781bf', '#a65628', '#984ea3','#999999', '#e41a1c', '#dede00']\n",
    "\n",
    "#Running the script with parameter definitions and functions:\n",
    "%run populations_functions.py"
   ]
  },
  {
   "cell_type": "code",
   "execution_count": 2,
   "id": "85903bc7",
   "metadata": {},
   "outputs": [],
   "source": [
    "#Start with some sugar levels, which are uniformly distributed:\n",
    "sugars_info = np.linspace(60,430,num=16)\n",
    "p_sugars = np.ones_like(sugars_info)\n",
    "p_sugars = p_sugars/np.sum(p_sugars)\n",
    "\n",
    "#Now, some values of the expression noise alpha:\n",
    "# alphas = np.logspace(np.log10(0.2),np.log10(5),2)\n",
    "alphas = np.logspace(np.log10(0.5),np.log10(5),5)\n",
    "deltas = np.logspace(-1,np.log10(25),num=6)\n",
    "\n",
    "#Define the quantities we need. First, colony fitness:\n",
    "col_fit_unreg_unsel = np.zeros((len(alphas),len(deltas),len(sugars_info)))\n",
    "col_fit_reg_unsel = np.zeros((len(alphas),len(deltas),len(sugars_info)))\n",
    "col_fit_unreg_sel = np.zeros((len(alphas),len(deltas),len(sugars_info)))\n",
    "col_fit_reg_sel = np.zeros((len(alphas),len(deltas),len(sugars_info)))\n",
    "\n",
    "#Fitness across all sugars:\n",
    "tot_fit_unreg_unsel = np.zeros((len(alphas),len(deltas)))\n",
    "tot_fit_reg_unsel = np.zeros((len(alphas),len(deltas)))\n",
    "tot_fit_unreg_sel = np.zeros((len(alphas),len(deltas)))\n",
    "tot_fit_reg_sel = np.zeros((len(alphas),len(deltas)))\n",
    "\n",
    "# #To compute mutual information, we use the formula I(g;s) = H(g) - H(g|s). For H(g), we need the marginal...\n",
    "# #...distributions for all four cases:\n",
    "# marg_unreg_unsel = np.zeros((len(alphas),len(deltas),len(g)))\n",
    "# marg_reg_unsel = np.zeros((len(alphas),len(deltas),len(g)))\n",
    "# marg_unreg_sel = np.zeros((len(alphas),len(deltas),len(g)))\n",
    "# marg_reg_sel = np.zeros((len(alphas),len(deltas),len(g)))\n",
    "\n",
    "# #Then we need the conditional entropies H(g|s). We'll calculate these inside the sugar loop:\n",
    "# condEnt_unreg_unsel = np.zeros((len(alphas),len(deltas)))\n",
    "# condEnt_reg_unsel = np.zeros((len(alphas),len(deltas)))\n",
    "# condEnt_unreg_sel = np.zeros((len(alphas),len(deltas)))\n",
    "# condEnt_reg_sel = np.zeros((len(alphas),len(deltas)))\n",
    "\n",
    "# #The marginal entropy H(g):\n",
    "# ent_unreg_unsel = np.zeros((len(alphas),len(deltas)))\n",
    "# ent_reg_unsel = np.zeros((len(alphas),len(deltas)))\n",
    "# ent_unreg_sel = np.zeros((len(alphas),len(deltas)))\n",
    "# ent_reg_sel = np.zeros((len(alphas),len(deltas)))\n",
    "\n",
    "# #Finally, MI as a function of noise:\n",
    "# MI_unreg_unsel = np.zeros((len(alphas),len(deltas)))\n",
    "# MI_reg_unsel = np.zeros((len(alphas),len(deltas)))\n",
    "# MI_unreg_sel = np.zeros((len(alphas),len(deltas)))\n",
    "# MI_reg_sel = np.zeros((len(alphas),len(deltas)))"
   ]
  },
  {
   "cell_type": "code",
   "execution_count": 3,
   "id": "2b9cbb95",
   "metadata": {},
   "outputs": [
    {
     "name": "stdout",
     "output_type": "stream",
     "text": [
      "alpha=0.5; delta=0.1\n",
      "\n",
      "alpha=0.5; delta=0.30170881682725814\n",
      "\n",
      "alpha=0.5; delta=0.9102821015130401\n",
      "\n",
      "alpha=0.5; delta=2.746401358265295\n",
      "\n",
      "alpha=0.5; delta=8.286135043349967\n",
      "\n",
      "alpha=0.5; delta=25.000000000000007\n",
      "\n",
      "alpha=0.8891397050194614; delta=0.1\n",
      "\n",
      "alpha=0.8891397050194614; delta=0.30170881682725814\n",
      "\n",
      "alpha=0.8891397050194614; delta=0.9102821015130401\n",
      "\n",
      "alpha=0.8891397050194614; delta=2.746401358265295\n",
      "\n",
      "alpha=0.8891397050194614; delta=8.286135043349967\n",
      "\n",
      "alpha=0.8891397050194614; delta=25.000000000000007\n",
      "\n",
      "alpha=1.5811388300841898; delta=0.1\n",
      "\n",
      "alpha=1.5811388300841898; delta=0.30170881682725814\n",
      "\n",
      "alpha=1.5811388300841898; delta=0.9102821015130401\n",
      "\n",
      "alpha=1.5811388300841898; delta=2.746401358265295\n",
      "\n",
      "alpha=1.5811388300841898; delta=8.286135043349967\n",
      "\n",
      "alpha=1.5811388300841898; delta=25.000000000000007\n",
      "\n",
      "alpha=2.8117066259517456; delta=0.1\n",
      "\n",
      "alpha=2.8117066259517456; delta=0.30170881682725814\n",
      "\n",
      "alpha=2.8117066259517456; delta=0.9102821015130401\n",
      "\n",
      "alpha=2.8117066259517456; delta=2.746401358265295\n",
      "\n",
      "alpha=2.8117066259517456; delta=8.286135043349967\n",
      "\n",
      "alpha=2.8117066259517456; delta=25.000000000000007\n",
      "\n",
      "alpha=5.000000000000001; delta=0.1\n",
      "\n",
      "alpha=5.000000000000001; delta=0.30170881682725814\n",
      "\n",
      "alpha=5.000000000000001; delta=0.9102821015130401\n",
      "\n",
      "alpha=5.000000000000001; delta=2.746401358265295\n",
      "\n",
      "alpha=5.000000000000001; delta=8.286135043349967\n",
      "\n",
      "alpha=5.000000000000001; delta=25.000000000000007\n",
      "\n"
     ]
    }
   ],
   "source": [
    "for alpha_idx in range(len(alphas)):\n",
    "    alpha = alphas[alpha_idx]\n",
    "    for delta_idx in range(len(deltas)):\n",
    "        delta = deltas[delta_idx]\n",
    "        print(f\"alpha={alpha}; delta={delta}\\n\")\n",
    "        #Defining p0_unreg:\n",
    "        g_peak = 0.5*(g_min+g_max)\n",
    "#         p0_unreg = Gaussian(g,g_peak,np.maximum(np.sqrt(alpha*g_peak),1))\n",
    "        p0_unreg = Gaussian(g,g_peak,np.maximum(np.sqrt(alpha*g_peak),1)).astype('float64')\n",
    "\n",
    "        #Now looping over sugars:\n",
    "        for sug_idx in range(len(sugars_info)):\n",
    "            #Sugar, fitness function for this sugar and the optimal g:\n",
    "            sug = sugars_info[sug_idx]\n",
    "            fit = fitness(g,sug,delta)\n",
    "            g_reg = g[np.argmax(fit)]\n",
    "            #The fitness range:\n",
    "            fit_range = np.max(fitness(g,sug,delta))-np.min(fitness(g,sug,delta))\n",
    "            #Defining p0_reg\n",
    "#             p0_reg = Gaussian(g,g_reg,np.maximum(np.sqrt(alpha*g_reg),1))\n",
    "            p0_reg = Gaussian(g,g_reg,np.maximum(np.sqrt(alpha*g_reg),1)).astype('float64')\n",
    "            p0_reg = p0_reg/np.trapz(p0_reg,dx=dg)\n",
    "\n",
    "            #Calculating the normalized colony fitness (dividing by max possible fitness, f(g_reg,s)) already for p0_unreg and p0_reg:\n",
    "            col_fit_unreg_unsel[alpha_idx][delta_idx][sug_idx] = mean_wrt_P(fit,p0_unreg,g)\n",
    "            col_fit_reg_unsel[alpha_idx][delta_idx][sug_idx] = mean_wrt_P(fit,p0_reg,g)\n",
    "#             #Calculating the marginals for these above two cases:\n",
    "#             marg_unreg_unsel[alpha_idx][delta_idx] = marg_unreg_unsel[alpha_idx][delta_idx] + p_sugars[sug_idx]*p0_unreg\n",
    "#             marg_reg_unsel[alpha_idx][delta_idx] = marg_reg_unsel[alpha_idx][delta_idx] + p_sugars[sug_idx]*p0_reg\n",
    "#             #Now conditional entropies:\n",
    "#             dummy = np.clip(p0_unreg,0,None)\n",
    "#             dummy = dummy[dummy.nonzero()]\n",
    "#             condEnt_unreg_unsel[alpha_idx][delta_idx] = condEnt_unreg_unsel[alpha_idx][delta_idx] - p_sugars[sug_idx]*np.sum(dummy*np.log2(dummy))\n",
    "#             dummy = np.clip(p0_reg,0,None)\n",
    "#             dummy = dummy[dummy.nonzero()]\n",
    "#             condEnt_reg_unsel[alpha_idx][delta_idx] = condEnt_reg_unsel[alpha_idx][delta_idx] - p_sugars[sug_idx]*np.sum(dummy*np.log2(dummy))\n",
    "\n",
    "            #Now running the solver, i.e. letting selection take its course:\n",
    "            p_unreg,p_reg = selection(p0_unreg,p0_reg,sug,alpha,delta)\n",
    "\n",
    "            #Colony fitness for p_unreg and p_reg:\n",
    "            col_fit_unreg_sel[alpha_idx][delta_idx][sug_idx] = mean_wrt_P(fit,p_unreg,g)\n",
    "            col_fit_reg_sel[alpha_idx][delta_idx][sug_idx] = mean_wrt_P(fit,p_reg,g)\n",
    "#             #Now their marginals:\n",
    "#             marg_unreg_sel[alpha_idx][delta_idx] = marg_unreg_sel[alpha_idx][delta_idx] + p_sugars[sug_idx]*p_unreg\n",
    "#             marg_reg_sel[alpha_idx][delta_idx] = marg_reg_sel[alpha_idx][delta_idx] + p_sugars[sug_idx]*p_reg        \n",
    "#             #The conditional entropy for p_unreg and p_reg, given by - P(s) sum_g P_reg(g|s) log2 P_reg(g|s):\n",
    "#             dummy = np.clip(p_unreg,0,None)\n",
    "#             dummy = dummy[dummy.nonzero()]\n",
    "#             condEnt_unreg_sel[alpha_idx][delta_idx] = condEnt_unreg_sel[alpha_idx][delta_idx] - p_sugars[sug_idx]*np.sum(dummy*np.log2(dummy))\n",
    "#             dummy = np.clip(p_reg,0,None)\n",
    "#             dummy = dummy[dummy.nonzero()]\n",
    "#             condEnt_reg_sel[alpha_idx][delta_idx] = condEnt_reg_sel[alpha_idx][delta_idx] - p_sugars[sug_idx]*np.sum(dummy*np.log2(dummy))\n",
    "\n",
    "        #Ending the sugar loop. First we compute the total fitness across all sugars:\n",
    "        tot_fit_unreg_unsel[alpha_idx][delta_idx] = np.sum(col_fit_unreg_unsel[alpha_idx][delta_idx]*p_sugars)\n",
    "        tot_fit_reg_unsel[alpha_idx][delta_idx] = np.sum(col_fit_reg_unsel[alpha_idx][delta_idx]*p_sugars)\n",
    "        tot_fit_unreg_sel[alpha_idx][delta_idx] = np.sum(col_fit_unreg_sel[alpha_idx][delta_idx]*p_sugars)\n",
    "        tot_fit_reg_sel[alpha_idx][delta_idx] = np.sum(col_fit_reg_sel[alpha_idx][delta_idx]*p_sugars)\n",
    "\n",
    "#         #Now calculating the marginal entropies and information:\n",
    "#         dummy = np.clip(marg_unreg_unsel[alpha_idx][delta_idx],0,None)\n",
    "#         dummy = dummy[dummy.nonzero()]\n",
    "#         ent_unreg_unsel[alpha_idx][delta_idx] = -np.sum(dummy*np.log2(dummy))\n",
    "#         MI_unreg_unsel[alpha_idx][delta_idx] = ent_unreg_unsel[alpha_idx][delta_idx] - condEnt_unreg_unsel[alpha_idx][delta_idx]\n",
    "\n",
    "#         dummy = np.clip(marg_reg_unsel[alpha_idx][delta_idx],0,None)\n",
    "#         dummy = dummy[dummy.nonzero()]\n",
    "#         ent_reg_unsel[alpha_idx][delta_idx] = -np.sum(dummy*np.log2(dummy))\n",
    "#         MI_reg_unsel[alpha_idx][delta_idx] = ent_reg_unsel[alpha_idx][delta_idx] - condEnt_reg_unsel[alpha_idx][delta_idx]\n",
    "\n",
    "#         dummy = np.clip(marg_unreg_sel[alpha_idx][delta_idx],0,None)\n",
    "#         dummy = dummy[dummy.nonzero()]\n",
    "#         ent_unreg_sel[alpha_idx][delta_idx] = -np.sum(dummy*np.log2(dummy))\n",
    "#         MI_unreg_sel[alpha_idx][delta_idx] = ent_unreg_sel[alpha_idx][delta_idx] - condEnt_unreg_sel[alpha_idx][delta_idx]\n",
    "\n",
    "#         dummy = np.clip(marg_reg_sel[alpha_idx][delta_idx],0,None)\n",
    "#         dummy = dummy[dummy.nonzero()]\n",
    "#         ent_reg_sel[alpha_idx][delta_idx] = -np.sum(dummy*np.log2(dummy))\n",
    "#         MI_reg_sel[alpha_idx][delta_idx] = ent_reg_sel[alpha_idx][delta_idx] - condEnt_reg_sel[alpha_idx][delta_idx]\n",
    "        \n",
    "#Writing to files:\n",
    "np.savetxt(\"4b_fit_unreg_unsel.txt\",tot_fit_unreg_unsel.flatten())\n",
    "np.savetxt(\"4b_fit_reg_unsel.txt\",tot_fit_reg_unsel.flatten())\n",
    "np.savetxt(\"4b_fit_unreg_sel.txt\",tot_fit_unreg_sel.flatten())\n",
    "np.savetxt(\"4b_fit_reg_sel.txt\",tot_fit_reg_sel.flatten())\n",
    "\n",
    "# np.savetxt(\"4b_MI_unreg_unsel.txt\",MI_unreg_unsel.flatten())\n",
    "# np.savetxt(\"4b_MI_reg_unsel.txt\",MI_reg_unsel.flatten())\n",
    "# np.savetxt(\"4b_MI_unreg_sel.txt\",MI_unreg_sel.flatten())\n",
    "# np.savetxt(\"4b_MI_reg_sel.txt\",MI_reg_sel.flatten())"
   ]
  },
  {
   "cell_type": "code",
   "execution_count": 4,
   "id": "12413a08",
   "metadata": {},
   "outputs": [],
   "source": [
    "#Reading from files:\n",
    "tot_fit_unreg_unsel = np.loadtxt(\"4b_fit_unreg_unsel.txt\").reshape(len(alphas),len(deltas))\n",
    "tot_fit_reg_unsel = np.loadtxt(\"4b_fit_reg_unsel.txt\").reshape(len(alphas),len(deltas))\n",
    "tot_fit_unreg_sel = np.loadtxt(\"4b_fit_unreg_sel.txt\").reshape(len(alphas),len(deltas))\n",
    "tot_fit_reg_sel = np.loadtxt(\"4b_fit_reg_sel.txt\").reshape(len(alphas),len(deltas))\n",
    "\n",
    "# MI_unreg_unsel = np.loadtxt(\"4b_MI_unreg_unsel.txt\").reshape(len(alphas),len(deltas))\n",
    "# MI_reg_unsel = np.loadtxt(\"4b_MI_reg_unsel.txt\").reshape(len(alphas),len(deltas))\n",
    "# MI_unreg_sel = np.loadtxt(\"4b_MI_unreg_sel.txt\").reshape(len(alphas),len(deltas))\n",
    "# MI_reg_sel = np.loadtxt(\"4b_MI_reg_sel.txt\").reshape(len(alphas),len(deltas))"
   ]
  },
  {
   "cell_type": "code",
   "execution_count": 5,
   "id": "c73258e5",
   "metadata": {},
   "outputs": [
    {
     "data": {
      "text/plain": [
       "array([0.97827735, 0.9748593 , 0.96872078, 0.95759713, 0.93661988])"
      ]
     },
     "execution_count": 5,
     "metadata": {},
     "output_type": "execute_result"
    }
   ],
   "source": [
    "tot_fit_unreg_unsel[:,0]"
   ]
  },
  {
   "cell_type": "code",
   "execution_count": 6,
   "id": "66504459",
   "metadata": {},
   "outputs": [
    {
     "data": {
      "text/plain": [
       "<matplotlib.collections.PathCollection at 0x7f9120cce190>"
      ]
     },
     "execution_count": 6,
     "metadata": {},
     "output_type": "execute_result"
    },
    {
     "data": {
      "image/png": "[encoded data removed]",
      "text/plain": [
       "<Figure size 432x288 with 1 Axes>"
      ]
     },
     "metadata": {
      "needs_background": "light"
     },
     "output_type": "display_data"
    }
   ],
   "source": [
    "plt.scatter(alphas,tot_fit_reg_unsel[:,0],label='with reg.')\n"
   ]
  },
  {
   "cell_type": "code",
   "execution_count": 7,
   "id": "c8796307",
   "metadata": {},
   "outputs": [
    {
     "data": {
      "image/png": "[encoded data removed]",
      "text/plain": [
       "<Figure size 345.6x345.6 with 1 Axes>"
      ]
     },
     "metadata": {
      "needs_background": "light"
     },
     "output_type": "display_data"
    }
   ],
   "source": [
    "fig,ax = plt.subplots(1,1,figsize=[4.8,4.8])\n",
    "ax.set_xscale('log')\n",
    "# ax.set_ylim([0.05,2.5])\n",
    "# ax.set_aspect('equal',adjustable='box')\n",
    "ax.tick_params(axis='both', which='major', labelsize=12)\n",
    "ax.tick_params(axis='both', which='minor', labelsize=10)\n",
    "ax.scatter(alphas,tot_fit_unreg_unsel[:,0],label='no reg.')\n",
    "ax.scatter(alphas,tot_fit_reg_unsel[:,0],label='with reg.')\n",
    "ax.set_xticks(alphas)\n",
    "ax.set_xticklabels(np.around(alphas,2))\n",
    "ax.set_xlabel(r\"Expression noise $\\alpha$\",fontsize=18)\n",
    "ax.set_ylabel(r\"Average fitness (norm.)\",fontsize=18)\n",
    "ax.legend(loc='best',fontsize=12)\n",
    "ax.text(0.5,1.1,fr\"Avg. fitness vs. $\\alpha$, pre-selection\",va='center',ha='center',transform=ax.transAxes,fontsize=20)\n",
    "fig.savefig(f\"4b_fit_unsel_vs_alpha.pdf\",format=\"pdf\",dpi=2000,bbox_inches=\"tight\",pad_inches=0.05)"
   ]
  },
  {
   "cell_type": "code",
   "execution_count": 11,
   "id": "16d58a79",
   "metadata": {},
   "outputs": [
    {
     "data": {
      "text/plain": [
       "array([[-1.40237600e-02,  1.10574739e+00,  2.25190235e+00,\n",
       "         3.43862314e+00,  4.61920613e+00,  5.75979651e+00],\n",
       "       [-1.15260757e-02,  1.11910698e+00,  2.28689866e+00,\n",
       "         3.47924918e+00,  4.63855339e+00,  5.76634308e+00],\n",
       "       [-7.58824678e-03,  1.13954583e+00,  2.32575821e+00,\n",
       "         3.50549492e+00,  4.64785606e+00,  5.76885688e+00],\n",
       "       [-2.27402297e-03,  1.16688226e+00,  2.35495887e+00,\n",
       "         3.51730257e+00,  4.65061519e+00,  5.76876214e+00],\n",
       "       [ 1.76703670e-03,  1.19121664e+00,  2.36559984e+00,\n",
       "         3.51880980e+00,  4.64903421e+00,  5.76679994e+00]])"
      ]
     },
     "execution_count": 11,
     "metadata": {},
     "output_type": "execute_result"
    }
   ],
   "source": [
    "np.log(tot_fit_unreg_sel)"
   ]
  },
  {
   "cell_type": "markdown",
   "id": "c4182375",
   "metadata": {},
   "source": [
    "Looks like there is some nonzero effect of $\\alpha$ on the total fitness, but it is quite small and overshadowed by the increase because of stronger selection $\\delta$.\n"
   ]
  },
  {
   "cell_type": "code",
   "execution_count": 6,
   "id": "24a94e86",
   "metadata": {},
   "outputs": [],
   "source": [
    "# #Excess fitness given by regulation with precise sensing:\n",
    "# phase_diag = (tot_fit_reg_unsel-tot_fit_unreg_sel).T\n",
    "# cbar_lim = np.maximum(np.abs(np.max(phase_diag)),np.abs(np.min(phase_diag)))\n",
    "# fig,ax = plt.subplots(1,1,figsize=(4.8*1.4,4.2*1.4),constrained_layout='true')\n",
    "# pic=ax.imshow(phase_diag,vmin=-cbar_lim,vmax=cbar_lim,cmap='seismic',aspect='equal',origin='lower')\n",
    "# cbar = plt.colorbar(pic)\n",
    "# cbar.set_label(r\"Excess fitness (normalized)\",fontsize=16)\n",
    "# plt.xticks(ticks=range(5),labels=np.around(np.logspace(np.log10(0.5),np.log10(5),5),decimals=1))\n",
    "# plt.yticks(ticks=range(6),labels=np.around(np.logspace(-1,np.log10(25),num=6),decimals=1))\n",
    "# ax.tick_params(axis='both', which='major', labelsize=12)\n",
    "# ax.tick_params(axis='both', which='minor', labelsize=10)\n",
    "# ax.set_xlabel(r\"Expression noise $\\alpha$\",fontsize=18)\n",
    "# ax.set_ylabel(r\"Growth advantage $\\delta$\",fontsize=18)\n",
    "# ax.set_title(f\"Fitness benefit of reg.\",fontsize=20)\n",
    "# # fig.savefig(\"2a_fitness_phase_diagram.svg\", format=\"svg\")\n",
    "# fig.savefig(\"2a_fitness_phase_diagram.eps\", format=\"eps\")"
   ]
  },
  {
   "cell_type": "code",
   "execution_count": 7,
   "id": "f9ee28de",
   "metadata": {},
   "outputs": [],
   "source": [
    "# # Excess information given by regulation with precise sensing:\n",
    "# phase_diag = (MI_reg_unsel-MI_unreg_sel).T\n",
    "# cbar_lim = np.maximum(np.abs(np.max(phase_diag)),np.abs(np.min(phase_diag)))\n",
    "# fig,ax = plt.subplots(1,1,figsize=(4.8*1.4,4.2*1.4),constrained_layout='true')\n",
    "# pic=ax.imshow(phase_diag,vmin=-cbar_lim,vmax=cbar_lim,cmap='seismic',aspect='equal',origin='lower')\n",
    "# cbar = plt.colorbar(pic)\n",
    "# cbar.set_label(r\"Excess information (bits)\",fontsize=16)\n",
    "# plt.xticks(ticks=range(5),labels=np.around(np.logspace(np.log10(0.5),np.log10(5),5),decimals=1))\n",
    "# plt.yticks(ticks=range(6),labels=np.around(np.logspace(-1,np.log10(25),num=6),decimals=1))\n",
    "# ax.tick_params(axis='both', which='major', labelsize=12)\n",
    "# ax.tick_params(axis='both', which='minor', labelsize=10)\n",
    "# ax.set_xlabel(r\"Expression noise $\\alpha$\",fontsize=18)\n",
    "# ax.set_ylabel(r\"Growth advantage $\\delta$\",fontsize=18)\n",
    "# ax.set_title(f\"Information benefit of reg.\",fontsize=20)\n",
    "# # fig.savefig(\"2a_MI_phase_diagram.svg\", format=\"svg\")\n",
    "# fig.savefig(\"2a_MI_phase_diagram.eps\", format=\"eps\")"
   ]
  },
  {
   "cell_type": "code",
   "execution_count": 89,
   "id": "11a8cce4",
   "metadata": {},
   "outputs": [],
   "source": [
    "# fig,ax = plt.subplots(7,1,figsize=[2.625,10.5],sharex=True,sharey=True)\n",
    "\n",
    "# ax[0].scatter(alphas,tot_fit_unreg_unsel[:,0])\n",
    "# ax[0].scatter(alphas,tot_fit_reg_unsel[:,0])\n",
    "# ax[0].set_xscale('log')\n",
    "# ax[0].set_xticks(alphas)\n",
    "# ax[0].set_xticklabels(np.around(alphas,2))\n",
    "# ax[0].set_ylim([0.75,1.05])\n",
    "\n",
    "# ax[1].scatter(alphas,tot_fit_unreg_sel[:,0])\n",
    "# ax[1].scatter(alphas,tot_fit_reg_sel[:,0])\n",
    "\n",
    "# ax[2].scatter(alphas,tot_fit_unreg_sel[:,1])\n",
    "# ax[2].scatter(alphas,tot_fit_reg_sel[:,1])\n",
    "\n",
    "# ax[3].scatter(alphas,tot_fit_unreg_sel[:,2])\n",
    "# ax[3].scatter(alphas,tot_fit_reg_sel[:,2])\n",
    "\n",
    "# ax[4].scatter(alphas,tot_fit_unreg_sel[:,3])\n",
    "# ax[4].scatter(alphas,tot_fit_reg_sel[:,3])\n",
    "\n",
    "# ax[5].scatter(alphas,tot_fit_unreg_sel[:,4])\n",
    "# ax[5].scatter(alphas,tot_fit_reg_sel[:,4])\n",
    "\n",
    "# ax[6].scatter(alphas,tot_fit_unreg_sel[:,5])\n",
    "# ax[6].scatter(alphas,tot_fit_reg_sel[:,5])\n",
    "\n",
    "# plt.subplots_adjust(hspace=0)"
   ]
  },
  {
   "cell_type": "code",
   "execution_count": 8,
   "id": "fb882d38",
   "metadata": {},
   "outputs": [
    {
     "data": {
      "text/plain": [
       "Text(0.5, 1.0, 'Average fitness (no reg.)')"
      ]
     },
     "execution_count": 8,
     "metadata": {},
     "output_type": "execute_result"
    },
    {
     "data": {
      "image/png": "[encoded data removed]",
      "text/plain": [
       "<Figure size 432x432 with 2 Axes>"
      ]
     },
     "metadata": {
      "needs_background": "light"
     },
     "output_type": "display_data"
    }
   ],
   "source": [
    "from matplotlib import cm \n",
    "from matplotlib.colors import ListedColormap,LinearSegmentedColormap\n",
    "\n",
    "N = 256\n",
    "no_reg = np.ones((N, 4))\n",
    "no_reg[:, 0] = np.linspace(0, 55/256, N) # R = 55\n",
    "no_reg[:, 1] = np.linspace(0, 126/256, N) # G = 126\n",
    "no_reg[:, 2] = np.linspace(0, 184/256, N)  # B = 184\n",
    "no_reg_cmp = ListedColormap(no_reg)\n",
    "\n",
    "fig,ax = plt.subplots(1,1,figsize=[6,6],constrained_layout='true')\n",
    "pic=ax.imshow(np.log(tot_fit_unreg_sel.T),cmap=no_reg_cmp,origin='lower')\n",
    "cbar = plt.colorbar(pic,shrink=1.0)\n",
    "ax.set_xticks(ticks=range(5),labels=np.around(alphas,decimals=2))\n",
    "ax.set_yticks(ticks=range(6),labels=np.around(deltas,decimals=2))\n",
    "ax.tick_params(axis='both', which='major', labelsize=12)\n",
    "ax.tick_params(axis='both', which='minor', labelsize=10)\n",
    "ax.set_xlabel(r'Expression noise $\\alpha$',fontsize=18)\n",
    "ax.set_ylabel(r'Selection strength $\\delta$',fontsize=18)\n",
    "ax.set_title(r'Average fitness (no reg.)',fontsize=20)\n",
    "# fig.savefig(f\"4b_fit_unreg_sel_vs_alpha&delta.pdf\",format=\"pdf\",dpi=1200,bbox_inches=\"tight\",pad_inches=0.05)"
   ]
  },
  {
   "cell_type": "code",
   "execution_count": 9,
   "id": "5db40799",
   "metadata": {},
   "outputs": [
    {
     "data": {
      "text/plain": [
       "Text(0.5, 1.0, 'Average fitness (with reg.)')"
      ]
     },
     "execution_count": 9,
     "metadata": {},
     "output_type": "execute_result"
    },
    {
     "data": {
      "image/png": "[encoded data removed]",
      "text/plain": [
       "<Figure size 432x432 with 2 Axes>"
      ]
     },
     "metadata": {
      "needs_background": "light"
     },
     "output_type": "display_data"
    }
   ],
   "source": [
    "N = 256\n",
    "with_reg = np.ones((N, 4))\n",
    "with_reg[:, 0] = np.linspace(0, 255/256, N) # R = 255\n",
    "with_reg[:, 1] = np.linspace(0, 127/256, N) # G = 127\n",
    "with_reg[:, 2] = np.linspace(0, 0/256, N)  # B = 0\n",
    "with_reg_cmp = ListedColormap(with_reg)\n",
    "\n",
    "fig,ax = plt.subplots(1,1,figsize=[6,6],constrained_layout='true')\n",
    "pic=ax.imshow(MI_reg_sel.T,cmap=with_reg_cmp,origin='lower')\n",
    "cbar = plt.colorbar(pic,shrink=1)\n",
    "ax.set_xticks(ticks=range(5),labels=np.around(alphas,decimals=2))\n",
    "ax.set_yticks(ticks=range(6),labels=np.around(deltas,decimals=2))\n",
    "ax.tick_params(axis='both', which='major', labelsize=12)\n",
    "ax.tick_params(axis='both', which='minor', labelsize=10)\n",
    "ax.set_xlabel(r'Expression noise $\\alpha$',fontsize=18)\n",
    "ax.set_ylabel(r'Selection strength $\\delta$',fontsize=18)\n",
    "ax.set_title(r'Average fitness (with reg.)',fontsize=20)\n",
    "# fig.savefig(f\"4b_fit_reg_sel_vs_alpha&delta.pdf\",format=\"pdf\",dpi=1200,bbox_inches=\"tight\",pad_inches=0.05)"
   ]
  },
  {
   "cell_type": "code",
   "execution_count": 41,
   "id": "3c5ae308",
   "metadata": {},
   "outputs": [
    {
     "data": {
      "text/plain": [
       "5.368219060589221"
      ]
     },
     "execution_count": 41,
     "metadata": {},
     "output_type": "execute_result"
    }
   ],
   "source": [
    "np.max(MI_reg_sel)"
   ]
  },
  {
   "cell_type": "code",
   "execution_count": null,
   "id": "a1a43532",
   "metadata": {},
   "outputs": [],
   "source": []
  }
 ],
 "metadata": {
  "kernelspec": {
   "display_name": "Python 3 (ipykernel)",
   "language": "python",
   "name": "python3"
  },
  "language_info": {
   "codemirror_mode": {
    "name": "ipython",
    "version": 3
   },
   "file_extension": ".py",
   "mimetype": "text/x-python",
   "name": "python",
   "nbconvert_exporter": "python",
   "pygments_lexer": "ipython3",
   "version": "3.9.12"
  }
 },
 "nbformat": 4,
 "nbformat_minor": 5
}
