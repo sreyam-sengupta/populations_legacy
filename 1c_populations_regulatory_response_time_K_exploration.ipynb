{
 "cells": [
  {
   "cell_type": "code",
   "execution_count": 2,
   "id": "1f55df5e",
   "metadata": {},
   "outputs": [
    {
     "data": {
      "text/html": [
       "<style>.container { width:100% !important; }</style>"
      ],
      "text/plain": [
       "<IPython.core.display.HTML object>"
      ]
     },
     "metadata": {},
     "output_type": "display_data"
    }
   ],
   "source": [
    "import math\n",
    "import numpy as np\n",
    "import random as rand\n",
    "from numba import jit,int64,float64\n",
    "import matplotlib.pyplot as plt\n",
    "%matplotlib inline\n",
    "\n",
    "#To increase cell width:\n",
    "from IPython.display import display, HTML\n",
    "display(HTML(\"<style>.container { width:100% !important; }</style>\"))\n",
    "\n",
    "#Color-blind friendly colors to plot:\n",
    "CB_colors = ['#377eb8', '#ff7f00', '#4daf4a','#f781bf', '#a65628', '#984ea3','#999999', '#e41a1c', '#dede00']"
   ]
  },
  {
   "cell_type": "code",
   "execution_count": 76,
   "id": "65a9434f",
   "metadata": {},
   "outputs": [
    {
     "name": "stdout",
     "output_type": "stream",
     "text": [
      "K = 1.0; 0.5*dg/dt = 500.0\n",
      "D = 10.0; 0.5*dg**2/dt = 50.00000000000001\n"
     ]
    }
   ],
   "source": [
    "#The spacetime parameters. Let the population distribution of gene expression level be g:\n",
    "g_min = 0\n",
    "g_max = 100\n",
    "dg = 0.1\n",
    "#Defining a g_ghost which contains two extra `ghost' points at the edges:\n",
    "g_ghost = np.arange(g_min-dg,g_max+2*dg,dg)\n",
    "g = np.array(g_ghost[1:-1])\n",
    "\n",
    "#Time:\n",
    "dt = 0.0001\n",
    "T = 7\n",
    "Nt = round(T/dt)\n",
    "TimeRange = np.arange(0,T,dt)\n",
    "\n",
    "#How the population distributions evolve in the absence of selection. First, we define the free parameters...\n",
    "#...K and alpha, and from those D. K sets the timescale of population response to the regulated mean...\n",
    "#...which is set instantaneously. We may choose time units such that K=1.\n",
    "K = round(1/dt)*0.0001\n",
    "#The strength of noise:\n",
    "alpha = 0.1\n",
    "#The spread, with the preferred expression level (peak) now set to 50% of maximum.:\n",
    "g_peak = 0.5*(g_min+g_max)\n",
    "D = alpha*K*g_max\n",
    "\n",
    "#Checks:\n",
    "print(f\"K = {K}; 0.5*dg/dt = {0.5*dg/dt}\")\n",
    "print(f\"D = {D}; 0.5*dg**2/dt = {0.5*dg**2/dt}\")\n",
    "\n",
    "#Stability check:\n",
    "flag_stability=0\n",
    "if (K>=int(0.5*dg/dt) or D>=int(0.5*dg**2/dt)):\n",
    "    flag_stability=1\n",
    "    print(\"Warning! FTCS unstable.\")\n",
    "    \n",
    "#Now let's add selection to the picture. First, defining the relative differential growth rate delta.\n",
    "delta = .17/g_max*0.00001\n",
    "\n",
    "#Tolerance to calculate entropy:\n",
    "eps = 1e-100\n",
    "\n",
    "#Timescale of environmental fluctuations:\n",
    "tau_s = 3"
   ]
  },
  {
   "cell_type": "code",
   "execution_count": 71,
   "id": "a35dcb43",
   "metadata": {},
   "outputs": [
    {
     "data": {
      "text/plain": [
       "12500"
      ]
     },
     "execution_count": 71,
     "metadata": {},
     "output_type": "execute_result"
    }
   ],
   "source": [
    "round(1/dt)"
   ]
  },
  {
   "cell_type": "code",
   "execution_count": 72,
   "id": "f1937a91",
   "metadata": {},
   "outputs": [],
   "source": [
    "#First derivative, central difference method (used in the potential term K*d/dg (g*P)):\n",
    "@jit(\"float64[:](float64[:],float64)\",nopython=True)\n",
    "def derv1(func,dx):\n",
    "    func_left = func[0:-2]\n",
    "    func_right = func[2:]\n",
    "    #Below we calculate the first derivative using the central difference method:\n",
    "    derivative = (func_right - func_left)/(2*dx)\n",
    "    return derivative\n",
    "\n",
    "#Second derivative using central difference, used in the diffusion term (D*d2/dg2 (P)):\n",
    "@jit(\"float64[:](float64[:],float64)\",nopython=True)\n",
    "def derv2(func,dx):\n",
    "    func_left = func[0:-2]\n",
    "    func_right = func[2:]\n",
    "    func_center = func[1:-1]\n",
    "    #Below we calculate the second derivative, again using central difference method:\n",
    "    derivative2 = (func_right + func_left - 2*func_center)/(dx**2)\n",
    "    return derivative2\n",
    "\n",
    "#Defining a Gaussian pdf - we'll need it for P(g,t=0), the initial distribution:\n",
    "@jit(nopython=True)\n",
    "def Gaussian(x,mu,sigma):\n",
    "    dist = 1/(sigma*np.sqrt(2*np.pi))*np.exp(-0.5*((x-mu)/sigma)**2)\n",
    "    return dist\n",
    "\n",
    "#The function to calculate <f> dynamically, i.e. int_g f(g,s) P(g,t):\n",
    "@jit(nopython=True)\n",
    "def mean_wrt_P(func,P,g):\n",
    "    integrand = func*P\n",
    "    integral = np.trapz(integrand,g)\n",
    "    return integral\n",
    "\n",
    "#Defining the fitness function:\n",
    "# @jit([\"float64[:](float64[:],float64,float64)\",\"float64(float64,float64,float64)\"],nopython=True)\n",
    "def fitness(g,s,delta):\n",
    "#     fit = delta*((.17/g_max)*(g*s/(400+s) - (2/17)*g/(1-g/(1.8*g_max))) + 0)\n",
    "    fit = delta*(g*s/(400+s) - (2/17)*g/(1-g/(1.8*g_max)))\n",
    "    return fit\n",
    "\n",
    "#Putting the solver inside a function:\n",
    "# @jit(\"float64[:,:](float64[:],float64[:],float64,float64,float64)\",nopython=True)\n",
    "@jit(nopython=True)\n",
    "def selection(p0_unreg,p0_reg,s,alpha,delta):\n",
    "    #First, define the fitness function:\n",
    "#     fit = delta*((.17/g_max)*(g*s/(400+s) - (2/17)*g/(1-g/(1.8*g_max))) + 0)\n",
    "    fit = delta*(g*s/(400+s) - (2/17)*g/(1-g/(1.8*g_max)))\n",
    "    g_reg = g[np.argmax(fit)]\n",
    "\n",
    "    #Now let's compare the effects of regulation vs selection:\n",
    "    p_unreg = p0_unreg\n",
    "    p_reg = p0_reg\n",
    "    flag_unreg = 0\n",
    "    flag_reg = 0\n",
    "    \n",
    "#     #Storing dynamic fitness:\n",
    "#     dyn_fit_unreg = np.zeros_like\n",
    "\n",
    "    #Now evolve it:\n",
    "    for t in range(Nt):\n",
    "        #Setting the diffusion constants, unregulated first:\n",
    "        g_mean_unreg = np.trapz(g*p_unreg,g)\n",
    "        if (alpha*g_mean_unreg<=1):\n",
    "            flag_unreg = 1\n",
    "            D_unreg = 1.1\n",
    "        elif (alpha*K*g_mean_unreg>=int(0.5*dg**2/dt)):\n",
    "            flag_unreg = 1\n",
    "            D_unreg = 0.9*(0.5*dg**2/dt)\n",
    "        else:\n",
    "            D_unreg = alpha*K*g_mean_unreg\n",
    "\n",
    "        #Regulated:\n",
    "        g_mean_reg = np.trapz(g*p_reg,g)\n",
    "        if (alpha*g_mean_reg<=1):\n",
    "            flag_reg = 1\n",
    "            D_reg = 1.1\n",
    "        elif (alpha*K*g_mean_reg>=int(0.5*dg**2/dt)):\n",
    "            flag_reg = 1\n",
    "            D_reg = 0.9*(0.5*dg**2/dt)\n",
    "        else:\n",
    "            D_reg = alpha*K*g_mean_reg\n",
    "\n",
    "    #     #Checks:\n",
    "    #     if (t%10==0):\n",
    "    #         print(f\"\\nt={t}; g_mean_unreg={round(g_mean_unreg,2)}; D_unreg={round(D_unreg,2)}; max allowed={0.5*dg**2/dt}\")\n",
    "    #         print(f\"t={t}; g_mean_reg={round(g_mean_reg,2)}; D_reg={round(D_reg,2)}; max allowed={0.5*dg**2/dt}\")        \n",
    "\n",
    "        #Now creating the expanded p's, with ghost points. The bulk points are the same in each. Unregulated:\n",
    "        p_unreg_ghost = np.zeros(len(p_unreg)+2)\n",
    "        p_unreg_ghost[1:-1] = p_unreg\n",
    "        #Regulated:\n",
    "        p_reg_ghost = np.zeros(len(p_reg)+2)\n",
    "        p_reg_ghost[1:-1] = p_reg\n",
    "\n",
    "        #Setting the value of the ghost points. This represents the zero flux boundary conditions. Unregulated:\n",
    "        p_unreg_ghost[0] = p_unreg[1] + 2*dg*(K/D_unreg)*(g[0]-g_peak)*p_unreg[0]\n",
    "        p_unreg_ghost[-1] = p_unreg[-2] + 2*dg*(K/D_unreg)*(g_peak-g[-1])*p_unreg[-1]\n",
    "        #Regulated:\n",
    "        p_reg_ghost[0] = p_reg[1] + 2*dg*(K/D_reg)*(g[0]-g_reg)*p_reg[0]\n",
    "        p_reg_ghost[-1] = p_reg[-2] + 2*dg*(K/D_reg)*(g_reg-g[-1])*p_reg[-1]    \n",
    "\n",
    "        #Now to solve the equation. Unregulated first:\n",
    "        p_unreg = p_unreg + dt*((fit - mean_wrt_P(fit,p_unreg,g))*p_unreg \\\n",
    "                    + K*derv1((g_ghost-g_peak)*p_unreg_ghost,dg) + D_unreg*derv2(p_unreg_ghost,dg))\n",
    "        p_reg = p_reg + dt*((fit - mean_wrt_P(fit,p_reg,g))*p_reg \\\n",
    "                    + K*derv1((g_ghost-g_reg)*p_reg_ghost,dg) + D_reg*derv2(p_reg_ghost,dg))\n",
    "\n",
    "        #Finally, for the edge cases, we normalize:\n",
    "        if (flag_unreg==1):\n",
    "            p_unreg = p_unreg/np.trapz(p_unreg,dx=dg)\n",
    "        if (flag_reg==1):\n",
    "            p_reg = p_reg/np.trapz(p_reg,dx=dg)\n",
    "            \n",
    "    return p_unreg,p_reg\n",
    "\n",
    "@jit(nopython=True)\n",
    "def discrete_entropy(p_dist):\n",
    "    p_dist = p_dist[np.where(np.clip(p_dist,eps,None)>eps)]\n",
    "    return np.sum(p_dist*np.log2(1/p_dist))\n",
    "\n",
    "@jit(nopython=True)\n",
    "def cont_entropy(p_dist):\n",
    "    p_dist = p_dist[np.where(np.clip(p_dist,eps,None)>eps)]\n",
    "    return np.trapz(p_dist*np.log2(1/p_dist),dx=dg)\n",
    "\n",
    "@jit(nopython=True)\n",
    "def selection_dyn(p0_unreg,p0_reg,sug_dyn,alpha,delta):\n",
    "    #First, define the fitness function:\n",
    "#     fit = delta*((.17/g_max)*(g*s/(400+s) - (2/17)*g/(1-g/(1.8*g_max))) + 0)\n",
    "    s = sug_dyn[0]\n",
    "    fit = delta*(g*s/(400+s) - (2/17)*g/(1-g/(1.8*g_max)))\n",
    "    g_reg = g[np.argmax(fit)]\n",
    "\n",
    "    #Now let's compare the effects of regulation vs selection:\n",
    "    p_unreg = p0_unreg\n",
    "    p_reg = p0_reg\n",
    "    flag_unreg = 0\n",
    "    flag_reg = 0\n",
    "    \n",
    "    #Storing dynamic fitness:\n",
    "    dyn_fit_unreg, dyn_norm_fit_unreg, dyn_fit_reg, dyn_norm_fit_reg = np.zeros_like(TimeRange), np.zeros_like(TimeRange), np.zeros_like(TimeRange), np.zeros_like(TimeRange)\n",
    "    #Dynamic distributions:\n",
    "    dyn_p_unreg, dyn_p_reg = np.zeros((len(TimeRange),len(g))), np.zeros((len(TimeRange),len(g)))\n",
    "    dyn_p_unreg[0,:], dyn_p_reg[0,:] = p_unreg, p_reg    \n",
    "\n",
    "    #Now evolve it:\n",
    "    for t in range(len(TimeRange)):\n",
    "        #First setting the dynamic sugar and g_reg:\n",
    "        s = sug_dyn[t]\n",
    "        fit = delta*(g*s/(400+s) - (2/17)*g/(1-g/(1.8*g_max)))\n",
    "        g_reg = g[np.argmax(fit)]\n",
    "        \n",
    "        #Setting the diffusion constants, unregulated first:\n",
    "        g_mean_unreg = np.trapz(g*p_unreg,g)\n",
    "        if (alpha*g_mean_unreg<=1):\n",
    "            flag_unreg = 1\n",
    "            D_unreg = 1.1\n",
    "        elif (alpha*K*g_mean_unreg>=int(0.5*dg**2/dt)):\n",
    "            flag_unreg = 1\n",
    "            D_unreg = 0.9*(0.5*dg**2/dt)\n",
    "        else:\n",
    "            D_unreg = alpha*K*g_mean_unreg\n",
    "\n",
    "        #Regulated:\n",
    "        g_mean_reg = np.trapz(g*p_reg,g)\n",
    "        if (alpha*g_mean_reg<=1):\n",
    "            flag_reg = 1\n",
    "            D_reg = 1.1\n",
    "        elif (alpha*K*g_mean_reg>=int(0.5*dg**2/dt)):\n",
    "            flag_reg = 1\n",
    "            D_reg = 0.9*(0.5*dg**2/dt)\n",
    "        else:\n",
    "            D_reg = alpha*K*g_mean_reg\n",
    "\n",
    "    #     #Checks:\n",
    "    #     if (t%10==0):\n",
    "    #         print(f\"\\nt={t}; g_mean_unreg={round(g_mean_unreg,2)}; D_unreg={round(D_unreg,2)}; max allowed={0.5*dg**2/dt}\")\n",
    "    #         print(f\"t={t}; g_mean_reg={round(g_mean_reg,2)}; D_reg={round(D_reg,2)}; max allowed={0.5*dg**2/dt}\")        \n",
    "\n",
    "        #Now creating the expanded p's, with ghost points. The bulk points are the same in each. Unregulated:\n",
    "        p_unreg_ghost = np.zeros(len(p_unreg)+2)\n",
    "        p_unreg_ghost[1:-1] = p_unreg\n",
    "        #Regulated:\n",
    "        p_reg_ghost = np.zeros(len(p_reg)+2)\n",
    "        p_reg_ghost[1:-1] = p_reg\n",
    "\n",
    "        #Setting the value of the ghost points. This represents the zero flux boundary conditions. Unregulated:\n",
    "        p_unreg_ghost[0] = p_unreg[1] + 2*dg*(K/D_unreg)*(g[0]-g_peak)*p_unreg[0]\n",
    "        p_unreg_ghost[-1] = p_unreg[-2] + 2*dg*(K/D_unreg)*(g_peak-g[-1])*p_unreg[-1]\n",
    "        #Regulated:\n",
    "        p_reg_ghost[0] = p_reg[1] + 2*dg*(K/D_reg)*(g[0]-g_reg)*p_reg[0]\n",
    "        p_reg_ghost[-1] = p_reg[-2] + 2*dg*(K/D_reg)*(g_reg-g[-1])*p_reg[-1]    \n",
    "\n",
    "        #Now to solve the equation. Unregulated first:\n",
    "        p_unreg = p_unreg + dt*((fit - mean_wrt_P(fit,p_unreg,g))*p_unreg \\\n",
    "                    + K*derv1((g_ghost-g_peak)*p_unreg_ghost,dg) + D_unreg*derv2(p_unreg_ghost,dg))\n",
    "        p_reg = p_reg + dt*((fit - mean_wrt_P(fit,p_reg,g))*p_reg \\\n",
    "                    + K*derv1((g_ghost-g_reg)*p_reg_ghost,dg) + D_reg*derv2(p_reg_ghost,dg))\n",
    "\n",
    "        #Finally, for the edge cases, we normalize:\n",
    "        if (flag_unreg==1 or delta>=1): #Because apparently this blows up temporarily when delta>1\n",
    "            p_unreg = p_unreg/np.trapz(p_unreg,dx=dg)\n",
    "        if (flag_reg==1 or delta>=1):\n",
    "            p_reg = p_reg/np.trapz(p_reg,dx=dg)\n",
    "            \n",
    "        #Storing the dynamic distributions:\n",
    "        dyn_p_unreg[t,:], dyn_p_reg[t,:] = p_unreg, p_reg\n",
    "            \n",
    "        #Now calculating the dynamic fitnesses, absolute:\n",
    "        dyn_fit_unreg[t] = mean_wrt_P(fit,p_unreg,g)\n",
    "        dyn_fit_reg[t] = mean_wrt_P(fit,p_reg,g)\n",
    "        #Normalized:\n",
    "        dyn_norm_fit_unreg[t] = (dyn_fit_unreg[t] - np.min(fit))/(np.max(fit) - np.min(fit))\n",
    "        dyn_norm_fit_reg[t] = (dyn_fit_reg[t] - np.min(fit))/(np.max(fit) - np.min(fit))\n",
    "            \n",
    "    return dyn_p_unreg, dyn_p_reg, dyn_fit_unreg, dyn_norm_fit_unreg, dyn_fit_reg, dyn_norm_fit_reg"
   ]
  },
  {
   "cell_type": "code",
   "execution_count": 73,
   "id": "50fb259a",
   "metadata": {},
   "outputs": [
    {
     "data": {
      "text/plain": [
       "Text(0.5, 1.0, 'Sugar vs. time')"
      ]
     },
     "execution_count": 73,
     "metadata": {},
     "output_type": "execute_result"
    },
    {
     "data": {
      "image/png": "[encoded data removed]",
      "text/plain": [
       "<Figure size 432x288 with 1 Axes>"
      ]
     },
     "metadata": {
      "needs_background": "light"
     },
     "output_type": "display_data"
    }
   ],
   "source": [
    "#Dynamic sugar:\n",
    "flag = False\n",
    "sug_dyn = np.ones_like(TimeRange)\n",
    "temp_sug = np.array([])\n",
    "num_jumps = round(T/tau_s)\n",
    "for i in range(num_jumps):\n",
    "    if (i%2==0):\n",
    "        temp_sug = np.concatenate((temp_sug,60*np.array_split(sug_dyn,num_jumps)[i]))\n",
    "    elif (i%2==1):\n",
    "        temp_sug = np.concatenate((temp_sug,400*np.array_split(sug_dyn,num_jumps)[i]))\n",
    "sug_dyn = temp_sug\n",
    "\n",
    "#Finding the g_opt as a function of time through sugar:\n",
    "g_opt_dyn = np.zeros_like(sug_dyn)\n",
    "G,S = np.meshgrid(g,sug_dyn)\n",
    "fitness_2d = fitness(G,S,delta)\n",
    "g_opt_dyn = g[np.argmax(fitness_2d,axis=1)]\n",
    "\n",
    "#Plotting:\n",
    "fig,ax = plt.subplots(1,1,constrained_layout='true')\n",
    "ax.plot(TimeRange,sug_dyn,c='k')\n",
    "ax.tick_params(axis='both', which='major', labelsize=12)\n",
    "ax.tick_params(axis='both', which='minor', labelsize=10)\n",
    "ax.set_xlabel(r'Time $t$',fontsize=18)\n",
    "ax.set_ylabel('Sugar $s$',fontsize=18)\n",
    "ax.set_title('Sugar vs. time', fontsize=20)"
   ]
  },
  {
   "cell_type": "code",
   "execution_count": 34,
   "id": "d77f3f91",
   "metadata": {},
   "outputs": [
    {
     "name": "stdout",
     "output_type": "stream",
     "text": [
      "g_reg=9.2\n"
     ]
    }
   ],
   "source": [
    "#The starting distributions:\n",
    "g_reg = g[np.argmax(fitness(g,sug_dyn[0],delta))]\n",
    "print(f\"g_reg={round(g_reg,2)}\")\n",
    "\n",
    "#Generating the initial distributions:\n",
    "g_peak = 0.5*(g_min+g_max)\n",
    "#We don't want a standard deviation of 0, so even if the g_reg is 0, we set the s.d. of p0_reg to 1:\n",
    "p0_unreg = Gaussian(g,g_peak,np.maximum(np.sqrt(alpha*g_peak),1))\n",
    "p0_unreg = p0_unreg/np.trapz(p0_unreg,dx=dg)\n",
    "# p0_unreg = np.ones_like(g)\n",
    "# p0_unreg = p0_unreg/np.trapz(p0_unreg,dx=dg)\n",
    "p0_reg = Gaussian(g,g_reg,np.maximum(np.sqrt(alpha*g_reg),1))\n",
    "p0_reg = p0_reg/np.trapz(p0_reg,dx=dg)"
   ]
  },
  {
   "cell_type": "code",
   "execution_count": 35,
   "id": "49951f77",
   "metadata": {},
   "outputs": [
    {
     "data": {
      "text/plain": [
       "Text(0.5, 0, 'Gene expression g')"
      ]
     },
     "execution_count": 35,
     "metadata": {},
     "output_type": "execute_result"
    },
    {
     "data": {
      "image/png": "[encoded data removed]",
      "text/plain": [
       "<Figure size 432x288 with 1 Axes>"
      ]
     },
     "metadata": {
      "needs_background": "light"
     },
     "output_type": "display_data"
    }
   ],
   "source": [
    "plt.plot(g,p0_unreg)\n",
    "plt.plot(g,p0_reg)\n",
    "plt.title(\"Initial distributions\",fontsize=20)\n",
    "plt.xlabel(\"Gene expression g\",fontsize=18)"
   ]
  },
  {
   "cell_type": "code",
   "execution_count": 36,
   "id": "c8d499de",
   "metadata": {},
   "outputs": [],
   "source": [
    "dyn_p_unreg, dyn_p_reg, dyn_fit_unreg, dyn_norm_fit_unreg, dyn_fit_reg, dyn_norm_fit_reg = selection_dyn(p0_unreg,p0_reg,sug_dyn,alpha,delta)"
   ]
  },
  {
   "cell_type": "code",
   "execution_count": 37,
   "id": "ed9bea6d",
   "metadata": {},
   "outputs": [
    {
     "data": {
      "text/plain": [
       "<matplotlib.legend.Legend at 0x7fa7e389c460>"
      ]
     },
     "execution_count": 37,
     "metadata": {},
     "output_type": "execute_result"
    },
    {
     "data": {
      "image/png": "[encoded data removed]",
      "text/plain": [
       "<Figure size 432x288 with 2 Axes>"
      ]
     },
     "metadata": {
      "needs_background": "light"
     },
     "output_type": "display_data"
    }
   ],
   "source": [
    "#plotting the distributions:\n",
    "from matplotlib import cm \n",
    "from matplotlib.colors import ListedColormap,LinearSegmentedColormap\n",
    "\n",
    "N = 256\n",
    "no_reg = np.ones((N, 4))\n",
    "no_reg[:, 0] = np.linspace(0, 55/256, N) # R = 55\n",
    "no_reg[:, 1] = np.linspace(0, 126/256, N) # G = 126\n",
    "no_reg[:, 2] = np.linspace(0, 184/256, N)  # B = 184\n",
    "no_reg_cmp = ListedColormap(no_reg)\n",
    "\n",
    "with_reg = np.ones((N, 4))\n",
    "with_reg[:, 0] = np.linspace(0, 255/256, N) # R = 255\n",
    "with_reg[:, 1] = np.linspace(0, 127/256, N) # G = 127\n",
    "with_reg[:, 2] = np.linspace(0, 0/256, N)  # B = 0\n",
    "with_reg_cmp = ListedColormap(with_reg)\n",
    "\n",
    "\n",
    "fig,ax = plt.subplots(1,1,constrained_layout='true')\n",
    "pic=ax.imshow(dyn_p_reg.T,cmap=with_reg_cmp,origin='lower',aspect='auto')\n",
    "cbar = plt.colorbar(pic,shrink=1.0)\n",
    "\n",
    "xticks = ax.get_xticks()\n",
    "yticks = ax.get_yticks()\n",
    "ax.set_xticks(ticks = xticks[1:-1],labels=np.around(xticks[1:-1]*dt,2))\n",
    "ax.set_yticks(ticks = yticks[1:-1],labels=np.around(yticks[1:-1]*dg,2))\n",
    "ax.tick_params(axis='both', which='major', labelsize=12)\n",
    "ax.tick_params(axis='both', which='minor', labelsize=10)\n",
    "ax.set_xlabel(r'Time $t$',fontsize=18)\n",
    "ax.set_ylabel(r'$g$ dist. (with reg.)',fontsize=18)\n",
    "ax.plot(g_opt_dyn/dg,'w--',label=r'opt. $g$')\n",
    "ax.legend(loc='best')"
   ]
  },
  {
   "cell_type": "code",
   "execution_count": null,
   "id": "e85dcb8b",
   "metadata": {},
   "outputs": [],
   "source": []
  }
 ],
 "metadata": {
  "kernelspec": {
   "display_name": "Python 3 (ipykernel)",
   "language": "python",
   "name": "python3"
  },
  "language_info": {
   "codemirror_mode": {
    "name": "ipython",
    "version": 3
   },
   "file_extension": ".py",
   "mimetype": "text/x-python",
   "name": "python",
   "nbconvert_exporter": "python",
   "pygments_lexer": "ipython3",
   "version": "3.9.12"
  }
 },
 "nbformat": 4,
 "nbformat_minor": 5
}
