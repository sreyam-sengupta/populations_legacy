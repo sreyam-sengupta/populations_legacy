{
 "cells": [
  {
   "cell_type": "code",
   "execution_count": 2,
   "id": "4289efc8",
   "metadata": {},
   "outputs": [
    {
     "data": {
      "text/html": [
       "<style>.container { width:100% !important; }</style>"
      ],
      "text/plain": [
       "<IPython.core.display.HTML object>"
      ]
     },
     "metadata": {},
     "output_type": "display_data"
    }
   ],
   "source": [
    "import math\n",
    "import numpy as np\n",
    "import random as rand\n",
    "from numba import jit,int64,float64\n",
    "import matplotlib.pyplot as plt\n",
    "%matplotlib inline\n",
    "\n",
    "#To increase cell width:\n",
    "from IPython.display import display, HTML\n",
    "display(HTML(\"<style>.container { width:100% !important; }</style>\"))"
   ]
  },
  {
   "cell_type": "code",
   "execution_count": 9,
   "id": "e885b9aa",
   "metadata": {},
   "outputs": [
    {
     "name": "stdout",
     "output_type": "stream",
     "text": [
      "K = 1; 0.5*dg/dt = 1250.0\n",
      "D = 250.0; 0.5*dg**2/dt = 500.00000000000006\n"
     ]
    }
   ],
   "source": [
    "#The spacetime parameters. Let the population distribution of gene expression level be g:\n",
    "g_min = 0\n",
    "g_max = 100\n",
    "dg = 0.4\n",
    "#Defining a g_ghost which contains two extra `ghost' points at the edges:\n",
    "g_ghost = np.arange(g_min-dg,g_max+2*dg,dg)\n",
    "g = np.array(g_ghost[1:-1])\n",
    "\n",
    "\n",
    "#Time:\n",
    "dt = 0.00016\n",
    "T = 20\n",
    "Nt = int(T/dt)\n",
    "TimeRange = np.arange(0,T,dt)\n",
    "\n",
    "#How the population distributions evolve in the absence of selection. First, we define the free parameters...\n",
    "#...K and alpha, and from those D. K sets the timescale of population response to the regulated mean...\n",
    "#...which is set instantaneously. We may choose time units such that K=1.\n",
    "K = 1\n",
    "#The strength of noise:\n",
    "alpha = 5\n",
    "#The spread, with the preferred expression level (peak) now set to 50% of maximum.:\n",
    "g_peak = 0.5*(g_min+g_max)\n",
    "D = alpha*K*g_peak\n",
    "\n",
    "#Checks:\n",
    "print(f\"K = {K}; 0.5*dg/dt = {0.5*dg/dt}\")\n",
    "print(f\"D = {D}; 0.5*dg**2/dt = {0.5*dg**2/dt}\")\n",
    "\n",
    "#Stability check:\n",
    "flag_stability=0\n",
    "if (K>=int(0.5*dg/dt) or D>=int(0.5*dg**2/dt)):\n",
    "    flag_stability=1\n",
    "    print(\"Warning! FTCS unstable.\")\n",
    "    \n",
    "#Now let's add selection to the picture. First, defining the relative differential growth rate delta. We multiply this by 0.17/g_max to get Dekel delta.\n",
    "delta = .17/g_max\n",
    "\n",
    "#Color-blind friendly colors to plot:\n",
    "CB_colors = ['#377eb8', '#ff7f00', '#4daf4a','#f781bf', '#a65628', '#984ea3','#999999', '#e41a1c', '#dede00']"
   ]
  },
  {
   "cell_type": "code",
   "execution_count": 10,
   "id": "953adf61",
   "metadata": {},
   "outputs": [],
   "source": [
    "#First derivative, central difference method (used in the potential term K*d/dg (g*P)):\n",
    "@jit(\"float64[:](float64[:],float64)\",nopython=True)\n",
    "def derv1(func,dx):\n",
    "    func_left = func[0:-2]\n",
    "    func_right = func[2:]\n",
    "    #Below we calculate the first derivative using the central difference method:\n",
    "    derivative = (func_right - func_left)/(2*dx)\n",
    "    return derivative\n",
    "\n",
    "#Second derivative using central difference, used in the diffusion term (D*d2/dg2 (P)):\n",
    "@jit(\"float64[:](float64[:],float64)\",nopython=True)\n",
    "def derv2(func,dx):\n",
    "    func_left = func[0:-2]\n",
    "    func_right = func[2:]\n",
    "    func_center = func[1:-1]\n",
    "    #Below we calculate the second derivative, again using central difference method:\n",
    "    derivative2 = (func_right + func_left - 2*func_center)/(dx**2)\n",
    "    return derivative2\n",
    "\n",
    "#Defining a Gaussian pdf - we'll need it for P(g,t=0), the initial distribution:\n",
    "@jit(nopython=True)\n",
    "def Gaussian(x,mu,sigma):\n",
    "    dist = 1/(sigma*np.sqrt(2*np.pi))*np.exp(-0.5*((x-mu)/sigma)**2)\n",
    "    return dist\n",
    "\n",
    "#The function to calculate <f> dynamically, i.e. int_g f(g,s) P(g,t):\n",
    "@jit(nopython=True)\n",
    "def mean_wrt_P(func,P,g):\n",
    "    integrand = func*P\n",
    "    integral = np.trapz(integrand,g)\n",
    "    return integral\n",
    "\n",
    "#Defining the fitness function:\n",
    "# @jit([\"float64[:](float64[:],float64,float64)\",\"float64(float64,float64,float64)\"],nopython=True)\n",
    "def fitness(g,s,delta):\n",
    "#     fit = delta*((.17/g_max)*(g*s/(400+s) - (2/17)*g/(1-g/(1.8*g_max))) + 1)\n",
    "    return delta*(g*s/(400+s) - (2/17)*g/(1-g/(1.8*g_max)))\n",
    "\n",
    "#Putting the solver inside a function:\n",
    "# @jit(\"float64[:,:](float64[:],float64[:],float64,float64,float64)\",nopython=True)\n",
    "@jit(nopython=True)\n",
    "def selection(p0_unreg,p0_reg,s,alpha,delta):\n",
    "    #First, define the fitness function:\n",
    "    fit = (g*s/(400+s) - (2/17)*g/(1-g/(1.8*g_max)))\n",
    "    g_reg = g[np.argmax(fit)]\n",
    "    fit = delta*fit\n",
    "    \n",
    "    #Just to test, g_peak = g_reg:\n",
    "    g_peak = g_reg\n",
    "\n",
    "    #Now let's compare the effects of regulation vs selection:\n",
    "    p_unreg = p0_unreg\n",
    "    p_reg = p0_reg\n",
    "    flag_unreg = 0\n",
    "    flag_reg = 0\n",
    "    \n",
    "#     #Storing dynamic fitness:\n",
    "#     dyn_fit_unreg = np.zeros_like\n",
    "\n",
    "    #Now evolve it:\n",
    "    for t in range(Nt):\n",
    "        #Setting the diffusion constants, unregulated first:\n",
    "        g_mean_unreg = np.trapz(g*p_unreg,g)\n",
    "        if (alpha*g_mean_unreg<=1):\n",
    "            flag_unreg = 1\n",
    "            D_unreg = 1.1\n",
    "        elif (alpha*K*g_mean_unreg>=int(0.5*dg**2/dt)):\n",
    "            flag_unreg = 1\n",
    "            D_unreg = 0.9*(0.5*dg**2/dt)\n",
    "        else:\n",
    "            D_unreg = alpha*K*g_mean_unreg\n",
    "\n",
    "        #Regulated:\n",
    "        g_mean_reg = np.trapz(g*p_unreg,g)\n",
    "        if (alpha*g_mean_reg<=1):\n",
    "            flag_reg = 1\n",
    "            D_reg = 1.1\n",
    "        elif (alpha*K*g_mean_reg>=int(0.5*dg**2/dt)):\n",
    "            flag_reg = 1\n",
    "            D_reg = 0.9*(0.5*dg**2/dt)\n",
    "        else:\n",
    "            D_reg = alpha*K*g_mean_reg\n",
    "\n",
    "    #     #Checks:\n",
    "    #     if (t%10==0):\n",
    "    #         print(f\"\\nt={t}; g_mean_unreg={round(g_mean_unreg,2)}; D_unreg={round(D_unreg,2)}; max allowed={0.5*dg**2/dt}\")\n",
    "    #         print(f\"t={t}; g_mean_reg={round(g_mean_reg,2)}; D_reg={round(D_reg,2)}; max allowed={0.5*dg**2/dt}\")        \n",
    "\n",
    "        #Now creating the expanded p's, with ghost points. The bulk points are the same in each. Unregulated:\n",
    "        p_unreg_ghost = np.zeros(len(p_unreg)+2)\n",
    "        p_unreg_ghost[1:-1] = p_unreg\n",
    "        #Regulated:\n",
    "        p_reg_ghost = np.zeros(len(p_reg)+2)\n",
    "        p_reg_ghost[1:-1] = p_reg\n",
    "\n",
    "        #Setting the value of the ghost points. This represents the zero flux boundary conditions. Unregulated:\n",
    "        p_unreg_ghost[0] = p_unreg[1] + 2*dg*(K/D_unreg)*(g[0]-g_peak)*p_unreg[0]\n",
    "        p_unreg_ghost[-1] = p_unreg[-2] + 2*dg*(K/D_unreg)*(g_peak-g[-1])*p_unreg[-1]\n",
    "        #Regulated:\n",
    "        p_reg_ghost[0] = p_reg[1] + 2*dg*(K/D_reg)*(g[0]-g_reg)*p_reg[0]\n",
    "        p_reg_ghost[-1] = p_reg[-2] + 2*dg*(K/D_reg)*(g_reg-g[-1])*p_reg[-1]    \n",
    "\n",
    "        #Now to solve the equation. Unregulated first:\n",
    "        p_unreg = p_unreg + dt*((fit - mean_wrt_P(fit,p_unreg,g))*p_unreg \\\n",
    "                    + K*derv1((g_ghost-g_peak)*p_unreg_ghost,dg) + D_unreg*derv2(p_unreg_ghost,dg))\n",
    "        p_reg = p_reg + dt*((fit - mean_wrt_P(fit,p_reg,g))*p_reg \\\n",
    "                    + K*derv1((g_ghost-g_reg)*p_reg_ghost,dg) + D_reg*derv2(p_reg_ghost,dg))\n",
    "\n",
    "#         #Finally, for the edge cases, we normalize:\n",
    "#         if (flag_unreg==1):\n",
    "#             p_unreg = p_unreg/np.trapz(p_unreg,dx=dg)\n",
    "#         if (flag_reg==1):\n",
    "#             p_reg = p_reg/np.trapz(p_reg,dx=dg)\n",
    "            \n",
    "    return p_unreg,p_reg"
   ]
  },
  {
   "cell_type": "code",
   "execution_count": 11,
   "id": "32349618",
   "metadata": {},
   "outputs": [],
   "source": [
    "# #Let's see plots:\n",
    "# #Now a contour plot. First define the mesh:\n",
    "# sugars_contour = 6*g\n",
    "# S,G = np.meshgrid(sugars_contour,g)\n",
    "# f_2D = fitness(G,S,delta)\n",
    "# fig, ax = plt.subplots(1,1,figsize=(6.4,5.2),constrained_layout=True)\n",
    "\n",
    "# #Plotting the contour plot itself:\n",
    "# img = ax.contourf(S,G,f_2D, levels=100)\n",
    "# cbar=plt.colorbar(img)\n",
    "# cbar.set_label(r\"$f(g,s)$\",fontsize=16)\n",
    "# #Plotting the optimum expression level:\n",
    "# opt_g = np.empty_like(sugars_contour)\n",
    "# i=0\n",
    "# for s in sugars_contour:\n",
    "#     fit = fitness(g,s,delta)\n",
    "#     opt_g[i] = g[np.argmax(fit)]\n",
    "#     i+=1\n",
    "# ax.plot(sugars_contour,opt_g,'r:',label=r'opt. $g$')\n",
    "# ax.axvline(70,color='k',linestyle='--',label=r'$s$=70')\n",
    "# ax.axvline(400,color='k',linestyle='dashdot',label=r'$s$=400')\n",
    "# ax.tick_params(axis='both', which='major', labelsize=12)\n",
    "# ax.tick_params(axis='both', which='minor', labelsize=10)\n",
    "# ax.set_xlabel(r\"Sugar concentration $s$ ($\\mu$M)\",fontsize=18)\n",
    "# ax.set_ylabel(\"Gene expression $g$ (a. u.)\",fontsize=18)\n",
    "# ax.set_title(\"Fitness $f(g,s)$\",fontsize=20)\n",
    "# ax.legend(loc='best')\n",
    "# # fig.savefig(\"1_fitness_landscape.svg\",format=\"svg\")\n",
    "# fig.savefig(\"1_fitness_landscape.pdf\",format=\"pdf\",dpi=2000,bbox_inches=\"tight\",pad_inches=0.05)"
   ]
  },
  {
   "cell_type": "code",
   "execution_count": 12,
   "id": "efce0f41",
   "metadata": {},
   "outputs": [],
   "source": [
    "# #Choosing a sugar level and finding the regulation peak:\n",
    "# sug_low = 70\n",
    "# fit = fitness(g,sug_low,delta)\n",
    "# g_reg_sLow = g[np.argmax(fit)]\n",
    "# print(f\"g_reg={round(g_reg_sLow,2)}\")\n",
    "\n",
    "# #Generating the initial distributions:\n",
    "# g_peak = 0.5*(g_min+g_max)\n",
    "# #We don't want a standard deviation of 0, so even if the g_reg is 0, we set the s.d. of p0_reg to 1:\n",
    "# p0_unreg_sLow = Gaussian(g,g_peak,np.maximum(np.sqrt(alpha*g_peak),1))\n",
    "# p0_unreg_sLow = p0_unreg_sLow/np.trapz(p0_unreg_sLow,dx=dg)\n",
    "# # p0_unreg = np.ones_like(g)\n",
    "# # p0_unreg = p0_unreg/np.trapz(p0_unreg,dx=dg)\n",
    "# p0_reg_sLow = Gaussian(g,g_reg_sLow,np.maximum(np.sqrt(alpha*g_reg_sLow),1))\n",
    "# p0_reg_sLow = p0_reg_sLow/np.trapz(p0_reg_sLow,dx=dg)"
   ]
  },
  {
   "cell_type": "code",
   "execution_count": 13,
   "id": "64b051e5",
   "metadata": {},
   "outputs": [
    {
     "name": "stdout",
     "output_type": "stream",
     "text": [
      "g_reg=9.2\n"
     ]
    }
   ],
   "source": [
    "#Choosing a sugar level and finding the regulation peak:\n",
    "sug_high = 60\n",
    "\n",
    "fit = fitness(g,sug_high,delta)\n",
    "g_reg_sHigh = g[np.argmax(fit)]\n",
    "print(f\"g_reg={round(g_reg_sHigh,2)}\")\n",
    "\n",
    "alpha=1\n",
    "\n",
    "#Generating the initial distributions:\n",
    "#We don't want a standard deviation of 0, so even if the g_reg is 0, we set the s.d. of p0_reg to 1:\n",
    "p0_unreg_sHigh = Gaussian(g,g_peak,np.maximum(np.sqrt(alpha*g_peak),1))\n",
    "p0_unreg_sHigh = p0_unreg_sHigh/np.trapz(p0_unreg_sHigh,dx=dg)\n",
    "# p0_unreg = np.ones_like(g)\n",
    "# p0_unreg = p0_unreg/np.trapz(p0_unreg,dx=dg)\n",
    "p0_reg_sHigh = Gaussian(g,g_reg_sHigh,np.maximum(np.sqrt(alpha*g_reg_sHigh),1))\n",
    "p0_reg_sHigh = p0_reg_sHigh/np.trapz(p0_reg_sHigh,dx=dg)"
   ]
  },
  {
   "cell_type": "code",
   "execution_count": 14,
   "id": "baf71cbb",
   "metadata": {},
   "outputs": [],
   "source": [
    "p_unreg_sHigh,p_reg_sHigh = selection(p0_unreg_sHigh,p0_reg_sHigh,sug_high,alpha,delta=0)"
   ]
  },
  {
   "cell_type": "code",
   "execution_count": 15,
   "id": "c06f3588",
   "metadata": {},
   "outputs": [
    {
     "data": {
      "text/plain": [
       "[<matplotlib.lines.Line2D at 0x7f3edb014c40>]"
      ]
     },
     "execution_count": 15,
     "metadata": {},
     "output_type": "execute_result"
    },
    {
     "data": {
      "image/png": "[encoded data removed]",
      "text/plain": [
       "<Figure size 432x288 with 1 Axes>"
      ]
     },
     "metadata": {
      "needs_background": "light"
     },
     "output_type": "display_data"
    }
   ],
   "source": [
    "plt.plot(g,p0_unreg_sHigh,c=CB_colors[0],ls='--')\n",
    "plt.plot(g,p_unreg_sHigh,c=CB_colors[0])"
   ]
  },
  {
   "cell_type": "code",
   "execution_count": 16,
   "id": "3228f0de",
   "metadata": {},
   "outputs": [
    {
     "data": {
      "text/plain": [
       "[<matplotlib.lines.Line2D at 0x7f3edb32bca0>]"
      ]
     },
     "execution_count": 16,
     "metadata": {},
     "output_type": "execute_result"
    },
    {
     "data": {
      "image/png": "[encoded data removed]",
      "text/plain": [
       "<Figure size 432x288 with 1 Axes>"
      ]
     },
     "metadata": {
      "needs_background": "light"
     },
     "output_type": "display_data"
    }
   ],
   "source": [
    "plt.plot(g,p0_reg_sHigh,c=CB_colors[1],ls='--')\n",
    "plt.plot(g,p_reg_sHigh,c=CB_colors[1])"
   ]
  },
  {
   "cell_type": "code",
   "execution_count": 17,
   "id": "a9e2d536",
   "metadata": {},
   "outputs": [
    {
     "data": {
      "text/plain": [
       "[<matplotlib.lines.Line2D at 0x7f3edab87640>]"
      ]
     },
     "execution_count": 17,
     "metadata": {},
     "output_type": "execute_result"
    },
    {
     "data": {
      "image/png": "[encoded data removed]",
      "text/plain": [
       "<Figure size 432x288 with 1 Axes>"
      ]
     },
     "metadata": {
      "needs_background": "light"
     },
     "output_type": "display_data"
    }
   ],
   "source": [
    "plt.plot(g,p_reg_sHigh-p0_reg_sHigh,c=CB_colors[1],ls='--')\n",
    "# plt.plot(g,p_reg_sHigh,c=CB_colors[1])"
   ]
  },
  {
   "cell_type": "code",
   "execution_count": 27,
   "id": "db81d5d3",
   "metadata": {
    "scrolled": true
   },
   "outputs": [],
   "source": [
    "# #Fitness and population distributions as a function of g:\n",
    "# fig,ax = plt.subplots(1,2,sharex=True,sharey=True,figsize=[9.6,4.8])\n",
    "\n",
    "# # ax[0].plot(g,p0_unreg_sLow,color=CB_colors[0],label='no reg.')\n",
    "# ax[0].fill_between(g,y1=p0_unreg_sLow,y2=0,color=CB_colors[0],alpha=1,label='no reg.')\n",
    "# # ax[0].plot(g, p0_reg_sLow,color=CB_colors[1],label='with reg.')\n",
    "# ax[0].fill_between(g,y1=p0_reg_sLow,y2=0,color=CB_colors[1],alpha=0.5,label='with reg.')\n",
    "# ax[0].axvline(g_reg_sLow,color='k',linestyle=':')\n",
    "# ax[0].tick_params(axis='both', which='major', labelsize=12)\n",
    "# ax[0].tick_params(axis='both', which='minor', labelsize=10)\n",
    "# ax02 = ax[0].twinx()\n",
    "# ax02.plot(g,fitness(g,sug_low,delta),'k--')\n",
    "# ax02.set_yticks([])\n",
    "# ax02.tick_params(axis='both', which='major', labelsize=12)\n",
    "# ax02.tick_params(axis='both', which='minor', labelsize=10)\n",
    "# ax[0].legend(loc='best',fontsize=12)\n",
    "# ax[0].set_title('Low sugar',fontsize=18)\n",
    "\n",
    "# ax[1].fill_between(g,y1=p0_unreg_sHigh,y2=0,color=CB_colors[0],alpha=1)\n",
    "# ax[1].fill_between(g,y1=p0_reg_sHigh,y2=0,color=CB_colors[1],alpha=0.5)\n",
    "# ax[1].tick_params(axis='both', which='major', labelsize=12)\n",
    "# ax[1].tick_params(axis='both', which='minor', labelsize=10)\n",
    "# # ax[1].set_yticks([])\n",
    "# ax12 = ax[1].twinx()\n",
    "# ax12.plot(g,fitness(g,sug_high,delta),color='k',ls='dashed',label='fitness')\n",
    "# ax12.axvline(g_reg_sHigh,color='k',linestyle=':',label=r'opt. $g$')\n",
    "# ax12.legend(loc='best',fontsize=12)\n",
    "# ax12.tick_params(axis='both', which='major', labelsize=12)\n",
    "# ax12.tick_params(axis='both', which='minor', labelsize=10)\n",
    "# ax[1].set_title('High sugar',fontsize=18)\n",
    "\n",
    "# ax02.get_shared_y_axes().join(ax02, ax12)\n",
    "\n",
    "# fig.text(0.5, 0.03, r\"Gene expression $g$\", ha='center', va='center', fontsize=18)\n",
    "# fig.text(0.03, 0.5, \"Probability\", ha='center', va='center', rotation='vertical', fontsize=18)\n",
    "# fig.text(0.97, 0.5, \"Fitness\", ha='center', va='center', rotation=270, fontsize=18)\n",
    "# fig.text(0.5, 1.01, r\"Fitness function and population $g$ distribution vs. $g$\", ha='center', va='center', rotation=0, fontsize=20)\n",
    "\n",
    "# plt.subplots_adjust(wspace=0)\n",
    "\n",
    "# fig.savefig(\"1_pop_distributions.pdf\",format=\"pdf\",dpi=2000,bbox_inches=\"tight\",pad_inches=0.05)"
   ]
  },
  {
   "cell_type": "code",
   "execution_count": 17,
   "id": "2afdcf6c",
   "metadata": {},
   "outputs": [
    {
     "name": "stdout",
     "output_type": "stream",
     "text": [
      "50.0\n"
     ]
    }
   ],
   "source": [
    "# #Plotting fitness as a function of s:\n",
    "# sug_arr = np.arange(50,600,0.1)\n",
    "# #Fitnesses\n",
    "# fit_unreg_arr = np.zeros_like(sug_arr)\n",
    "# fit_reg_arr = np.zeros_like(sug_arr)\n",
    "\n",
    "# #The unregulated distribution, purely a function of alpha:\n",
    "# p0_unreg_sug = Gaussian(g,g_peak,np.maximum(np.sqrt(alpha*g_peak),1))\n",
    "# p0_unreg_sug = p0_unreg_sug/np.trapz(p0_unreg_sug,dx=dg)\n",
    "\n",
    "# #Calculating fitness for various\n",
    "# for sug_idx in range(len(sug_arr)):\n",
    "#     #The sugar\n",
    "#     sug = sug_arr[sug_idx]\n",
    "#     #Fitness and the optimal expression value:\n",
    "#     fit_sug = fitness(g,sug,delta)\n",
    "#     g_reg_sug = g[np.argmax(fit_sug)]\n",
    "#     p0_reg_sug = Gaussian(g,g_reg_sug,np.maximum(np.sqrt(alpha*g_reg_sug),1))\n",
    "#     p0_reg_sug = p0_reg_sug/np.trapz(p0_reg_sug,dx=dg)\n",
    "    "
   ]
  }
 ],
 "metadata": {
  "kernelspec": {
   "display_name": "Python 3 (ipykernel)",
   "language": "python",
   "name": "python3"
  },
  "language_info": {
   "codemirror_mode": {
    "name": "ipython",
    "version": 3
   },
   "file_extension": ".py",
   "mimetype": "text/x-python",
   "name": "python",
   "nbconvert_exporter": "python",
   "pygments_lexer": "ipython3",
   "version": "3.9.12"
  }
 },
 "nbformat": 4,
 "nbformat_minor": 5
}
