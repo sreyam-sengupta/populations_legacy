{
 "cells": [
  {
   "cell_type": "code",
   "execution_count": 1,
   "id": "4289efc8",
   "metadata": {},
   "outputs": [
    {
     "data": {
      "text/html": [
       "<style>.container { width:100% !important; }</style>"
      ],
      "text/plain": [
       "<IPython.core.display.HTML object>"
      ]
     },
     "metadata": {},
     "output_type": "display_data"
    }
   ],
   "source": [
    "import math\n",
    "import numpy as np\n",
    "import random as rand\n",
    "from numba import jit,int64,float64\n",
    "import matplotlib.pyplot as plt\n",
    "%matplotlib inline\n",
    "\n",
    "#To increase cell width:\n",
    "from IPython.display import display, HTML\n",
    "display(HTML(\"<style>.container { width:100% !important; }</style>\"))"
   ]
  },
  {
   "cell_type": "code",
   "execution_count": 8,
   "id": "e885b9aa",
   "metadata": {},
   "outputs": [
    {
     "name": "stdout",
     "output_type": "stream",
     "text": [
      "K = 1; 0.5*dg/dt = 2500.0\n",
      "D = 500; 0.5*dg**2/dt = 1000.0000000000001\n"
     ]
    }
   ],
   "source": [
    "#The spacetime parameters. Let the population distribution of gene expression level be g:\n",
    "g_min = 0\n",
    "g_max = 100\n",
    "dg = 0.4\n",
    "#Defining a g_ghost which contains two extra `ghost' points at the edges:\n",
    "g_ghost = np.arange(g_min-dg,g_max+2*dg,dg)\n",
    "g = np.array(g_ghost[1:-1])\n",
    "\n",
    "\n",
    "#Time:\n",
    "dt = 0.00008\n",
    "T = 20\n",
    "# Nt = int(T/dt)\n",
    "TimeRange = np.arange(0,T+dt,dt)\n",
    "\n",
    "#How the population distributions evolve in the absence of selection. First, we define the free parameters...\n",
    "#...K and alpha, and from those D. K sets the timescale of population response to the regulated mean...\n",
    "#...which is set instantaneously. We may choose time units such that K=1.\n",
    "K = 1\n",
    "#The strength of noise:\n",
    "alpha = 5\n",
    "#The spread, with the preferred expression level (peak) now set to 50% of maximum.:\n",
    "g_peak = 0.5*(g_min+g_max)\n",
    "D = alpha*K*g_max\n",
    "\n",
    "#Checks:\n",
    "print(f\"K = {K}; 0.5*dg/dt = {0.5*dg/dt}\")\n",
    "print(f\"D = {D}; 0.5*dg**2/dt = {0.5*dg**2/dt}\")\n",
    "\n",
    "#Stability check:\n",
    "flag_stability=0\n",
    "if (K>=int(0.5*dg/dt) or D>=int(0.5*dg**2/dt)):\n",
    "    flag_stability=1\n",
    "    print(\"Warning! FTCS unstable.\")\n",
    "    \n",
    "#Now let's add selection to the picture. First, defining the relative differential growth rate delta.\n",
    "delta = .17/g_max\n",
    "\n",
    "#Color-blind friendly colors to plot:\n",
    "CB_colors = ['#377eb8', '#ff7f00', '#4daf4a','#f781bf', '#a65628', '#984ea3','#999999', '#e41a1c', '#dede00']"
   ]
  },
  {
   "cell_type": "code",
   "execution_count": 9,
   "id": "953adf61",
   "metadata": {},
   "outputs": [],
   "source": [
    "#First derivative, central difference method (used in the potential term K*d/dg (g*P)):\n",
    "@jit(\"float64[:](float64[:],float64)\",nopython=True)\n",
    "def derv1(func,dx):\n",
    "    func_left = func[0:-2]\n",
    "    func_right = func[2:]\n",
    "    #Below we calculate the first derivative using the central difference method:\n",
    "    derivative = (func_right - func_left)/(2*dx)\n",
    "    return derivative\n",
    "\n",
    "#Second derivative using central difference, used in the diffusion term (D*d2/dg2 (P)):\n",
    "@jit(\"float64[:](float64[:],float64)\",nopython=True)\n",
    "def derv2(func,dx):\n",
    "    func_left = func[0:-2]\n",
    "    func_right = func[2:]\n",
    "    func_center = func[1:-1]\n",
    "    #Below we calculate the second derivative, again using central difference method:\n",
    "    derivative2 = (func_right + func_left - 2*func_center)/(dx**2)\n",
    "    return derivative2\n",
    "\n",
    "#Defining a Gaussian pdf - we'll need it for P(g,t=0), the initial distribution:\n",
    "@jit(nopython=True)\n",
    "def Gaussian(x,mu,sigma):\n",
    "    dist = 1/(sigma*np.sqrt(2*np.pi))*np.exp(-0.5*((x-mu)/sigma)**2)\n",
    "    return dist\n",
    "\n",
    "#The function to calculate <f> dynamically, i.e. int_g f(g,s) P(g,t):\n",
    "@jit(nopython=True)\n",
    "def mean_wrt_P(func,P,g):\n",
    "    integrand = func*P\n",
    "    integral = np.trapz(integrand,g)\n",
    "    return integral\n",
    "\n",
    "#The function to calculate <f^2> - <f>^2 dynamically:\n",
    "@jit(nopython=True)\n",
    "def var_wrt_P(func,P,g):\n",
    "    term1 = mean_wrt_P(func**2,P,g)\n",
    "    term2 = (mean_wrt_P(func,P,g))**2\n",
    "    var = term1 - term2\n",
    "    return var\n",
    "\n",
    "#Defining the fitness function:\n",
    "# @jit([\"float64[:](float64[:],float64,float64)\",\"float64(float64,float64,float64)\"],nopython=True)\n",
    "def fitness(g,s,delta):\n",
    "#     fit = delta*((.17/g_max)*(g*s/(400+s) - (2/17)*g/(1-g/(1.8*g_max))) + 0)\n",
    "    fit = delta*(g*s/(400+s) - (2/17)*g/(1-g/(1.8*g_max)))\n",
    "    return fit\n",
    "\n",
    "#Putting the solver inside a function:\n",
    "# @jit(\"float64[:,:](float64[:],float64[:],float64,float64,float64)\",nopython=True)\n",
    "@jit(nopython=True)\n",
    "def selection(p0_unreg,p0_reg,sug_dyn,alpha,delta):\n",
    "    #First, define the fitness function:\n",
    "#     fit = delta*((.17/g_max)*(g*s/(400+s) - (2/17)*g/(1-g/(1.8*g_max))) + 0)\n",
    "    s = sug_dyn[0]\n",
    "    fit = delta*(g*s/(400+s) - (2/17)*g/(1-g/(1.8*g_max)))\n",
    "    g_reg = g[np.argmax(fit)]\n",
    "\n",
    "    #Now let's compare the effects of regulation vs selection:\n",
    "    p_unreg = p0_unreg\n",
    "    p_reg = p0_reg\n",
    "    flag_unreg = 0\n",
    "    flag_reg = 0\n",
    "    \n",
    "    #Storing dynamic fitness:\n",
    "    dyn_fit_unreg, dyn_fit_reg = np.zeros_like(TimeRange), np.zeros_like(TimeRange)\n",
    "\n",
    "    #Now evolve it:\n",
    "    for t in range(len(TimeRange)):\n",
    "        #First setting the dynamic sugar and g_reg:\n",
    "        s = sug_dyn[t]\n",
    "        fit = delta*(g*s/(400+s) - (2/17)*g/(1-g/(1.8*g_max)))\n",
    "        g_reg = g[np.argmax(fit)]\n",
    "        \n",
    "        #Setting the diffusion constants, unregulated first:\n",
    "        g_mean_unreg = np.trapz(g*p_unreg,g)\n",
    "        if (alpha*g_mean_unreg<=1):\n",
    "            flag_unreg = 1\n",
    "            D_unreg = 1.1\n",
    "        elif (alpha*K*g_mean_unreg>=int(0.5*dg**2/dt)):\n",
    "            flag_unreg = 1\n",
    "            D_unreg = 0.9*(0.5*dg**2/dt)\n",
    "        else:\n",
    "            D_unreg = alpha*K*g_mean_unreg\n",
    "\n",
    "        #Regulated:\n",
    "        g_mean_reg = np.trapz(g*p_unreg,g)\n",
    "        if (alpha*g_mean_reg<=1):\n",
    "            flag_reg = 1\n",
    "            D_reg = 1.1\n",
    "        elif (alpha*K*g_mean_reg>=int(0.5*dg**2/dt)):\n",
    "            flag_reg = 1\n",
    "            D_reg = 0.9*(0.5*dg**2/dt)\n",
    "        else:\n",
    "            D_reg = alpha*K*g_mean_reg\n",
    "\n",
    "    #     #Checks:\n",
    "    #     if (t%10==0):\n",
    "    #         print(f\"\\nt={t}; g_mean_unreg={round(g_mean_unreg,2)}; D_unreg={round(D_unreg,2)}; max allowed={0.5*dg**2/dt}\")\n",
    "    #         print(f\"t={t}; g_mean_reg={round(g_mean_reg,2)}; D_reg={round(D_reg,2)}; max allowed={0.5*dg**2/dt}\")        \n",
    "\n",
    "        #Now creating the expanded p's, with ghost points. The bulk points are the same in each. Unregulated:\n",
    "        p_unreg_ghost = np.zeros(len(p_unreg)+2)\n",
    "        p_unreg_ghost[1:-1] = p_unreg\n",
    "        #Regulated:\n",
    "        p_reg_ghost = np.zeros(len(p_reg)+2)\n",
    "        p_reg_ghost[1:-1] = p_reg\n",
    "\n",
    "        #Setting the value of the ghost points. This represents the zero flux boundary conditions. Unregulated:\n",
    "        p_unreg_ghost[0] = p_unreg[1] + 2*dg*(K/D_unreg)*(g[0]-g_peak)*p_unreg[0]\n",
    "        p_unreg_ghost[-1] = p_unreg[-2] + 2*dg*(K/D_unreg)*(g_peak-g[-1])*p_unreg[-1]\n",
    "        #Regulated:\n",
    "        p_reg_ghost[0] = p_reg[1] + 2*dg*(K/D_reg)*(g[0]-g_reg)*p_reg[0]\n",
    "        p_reg_ghost[-1] = p_reg[-2] + 2*dg*(K/D_reg)*(g_reg-g[-1])*p_reg[-1]    \n",
    "\n",
    "        #Now to solve the equation. Unregulated first:\n",
    "        p_unreg = p_unreg + dt*((fit - mean_wrt_P(fit,p_unreg,g))*p_unreg \\\n",
    "                    + K*derv1((g_ghost-g_peak)*p_unreg_ghost,dg) + D_unreg*derv2(p_unreg_ghost,dg))\n",
    "        p_reg = p_reg + dt*((fit - mean_wrt_P(fit,p_reg,g))*p_reg \\\n",
    "                    + K*derv1((g_ghost-g_reg)*p_reg_ghost,dg) + D_reg*derv2(p_reg_ghost,dg))\n",
    "\n",
    "        #Finally, for the edge cases, we normalize:\n",
    "        if (flag_unreg==1):\n",
    "            p_unreg = p_unreg/np.trapz(p_unreg,dx=dg)\n",
    "        if (flag_reg==1):\n",
    "            p_reg = p_reg/np.trapz(p_reg,dx=dg)\n",
    "            \n",
    "        #Now calculating the dynamic fitnesses:\n",
    "        dyn_fit_unreg[t] = mean_wrt_P(fit,p_unreg,g)\n",
    "        dyn_fit_reg[t] = mean_wrt_P(fit,p_reg,g)\n",
    "            \n",
    "    return p_unreg, p_reg, dyn_fit_unreg, dyn_fit_reg"
   ]
  },
  {
   "cell_type": "code",
   "execution_count": 56,
   "id": "0601e870",
   "metadata": {},
   "outputs": [],
   "source": [
    "flag = False\n",
    "sug_dyn = np.ones_like(TimeRange)\n",
    "temp_sug = np.array([])\n",
    "for i in range(10):\n",
    "    if (i%2==0):\n",
    "        temp_sug = np.concatenate((temp_sug,60*np.array_split(sug_dyn,10)[i]))\n",
    "    elif (i%2==1):\n",
    "        temp_sug = np.concatenate((temp_sug,600*np.array_split(sug_dyn,10)[i]))\n",
    "sug_dyn = temp_sug"
   ]
  },
  {
   "cell_type": "code",
   "execution_count": 57,
   "id": "40e5c550",
   "metadata": {},
   "outputs": [
    {
     "data": {
      "text/plain": [
       "[<matplotlib.lines.Line2D at 0x7fdd9786f9d0>]"
      ]
     },
     "execution_count": 57,
     "metadata": {},
     "output_type": "execute_result"
    },
    {
     "data": {
      "image/png": "[encoded data removed]",
      "text/plain": [
       "<Figure size 432x288 with 1 Axes>"
      ]
     },
     "metadata": {
      "needs_background": "light"
     },
     "output_type": "display_data"
    }
   ],
   "source": [
    "plt.plot(TimeRange,sug_dyn)"
   ]
  },
  {
   "cell_type": "code",
   "execution_count": 73,
   "id": "a65ea4a8",
   "metadata": {},
   "outputs": [
    {
     "name": "stdout",
     "output_type": "stream",
     "text": [
      "g_reg=9.2\n"
     ]
    }
   ],
   "source": [
    "#Starting and ending sugars:\n",
    "sug_start = sug_dyn[0]\n",
    "# sug_end = 600\n",
    "# #Sugar as a linear function of time:\n",
    "# sug_dyn = TimeRange*(sug_end-sug_start)/T + sug_start\n",
    "#Fitness as a function of the starting sugar:\n",
    "fit = fitness(g,sug_start,delta)\n",
    "g_reg = g[np.argmax(fit)]\n",
    "print(f\"g_reg={round(g_reg,2)}\")\n",
    "\n",
    "alpha = 1\n",
    "delta = 170/g_max\n",
    "\n",
    "#Generating the initial distributions:\n",
    "g_peak = 0.5*(g_min+g_max)\n",
    "#We don't want a standard deviation of 0, so even if the g_reg is 0, we set the s.d. of p0_reg to 1:\n",
    "p0_unreg = Gaussian(g,g_peak,np.maximum(np.sqrt(alpha*g_peak),1))\n",
    "p0_unreg = p0_unreg/np.trapz(p0_unreg,dx=dg)\n",
    "# p0_unreg = np.ones_like(g)\n",
    "# p0_unreg = p0_unreg/np.trapz(p0_unreg,dx=dg)\n",
    "p0_reg = Gaussian(g,g_reg,np.maximum(np.sqrt(alpha*g_reg),1))\n",
    "p0_reg = p0_reg/np.trapz(p0_reg,dx=dg)"
   ]
  },
  {
   "cell_type": "code",
   "execution_count": 74,
   "id": "37b14f32",
   "metadata": {},
   "outputs": [],
   "source": [
    "# #Now solving the PDE\n",
    "# p_unreg,p_reg = selection(p0_unreg,p0_reg,sug,alpha,delta)\n",
    "\n",
    "# #Normalized fitness attained by:\n",
    "# print(\"Normalized fitness, without reg, pre-sel: \",\\\n",
    "#     (mean_wrt_P(fitness(g,sug,delta),p0_unreg,g)-np.min(fitness(g,sug,delta)))/(np.max(fitness(g,sug,delta))-np.min(fitness(g,sug,delta))))\n",
    "# print(\"Normalized fitness, with reg, pre-sel: \",\\\n",
    "#     (mean_wrt_P(fitness(g,sug,delta),p0_reg,g)-np.min(fitness(g,sug,delta)))/(np.max(fitness(g,sug,delta))-np.min(fitness(g,sug,delta))))\n",
    "# print(\"Normalized fitness, without reg, post-sel: \",\\\n",
    "#     (mean_wrt_P(fitness(g,sug,delta),p_unreg,g)-np.min(fitness(g,sug,delta)))/(np.max(fitness(g,sug,delta))-np.min(fitness(g,sug,delta))))\n",
    "# print(\"Normalized fitness, with reg, post-sel: \",\\\n",
    "#     (mean_wrt_P(fitness(g,sug,delta),p_reg,g)-np.min(fitness(g,sug,delta)))/(np.max(fitness(g,sug,delta))-np.min(fitness(g,sug,delta))))"
   ]
  },
  {
   "cell_type": "code",
   "execution_count": 75,
   "id": "7e6ed942",
   "metadata": {},
   "outputs": [
    {
     "data": {
      "text/plain": [
       "Text(0.5, 1.0, 'Sugar vs time')"
      ]
     },
     "execution_count": 75,
     "metadata": {},
     "output_type": "execute_result"
    },
    {
     "data": {
      "image/png": "[encoded data removed]",
      "text/plain": [
       "<Figure size 432x288 with 1 Axes>"
      ]
     },
     "metadata": {
      "needs_background": "light"
     },
     "output_type": "display_data"
    }
   ],
   "source": [
    "#Visualizing sugar:\n",
    "fig,ax = plt.subplots(1,1,constrained_layout='true')\n",
    "ax.tick_params(axis='both', which='major', labelsize=12)\n",
    "ax.tick_params(axis='both', which='minor', labelsize=10)\n",
    "ax.plot(TimeRange,sug_dyn)\n",
    "ax.set_xlabel(r\"Time $t$\",fontsize=18)\n",
    "ax.set_ylabel(r\"Sugar $s(t)$\",fontsize=18)\n",
    "ax.set_title(\"Sugar vs time\",fontsize=20)\n",
    "\n",
    "# fig,ax = plt.subplots(1,1,constrained_layout='true')\n",
    "# ax.set_xscale('log')\n",
    "# ax.tick_params(axis='both', which='major', labelsize=12)\n",
    "# ax.tick_params(axis='both', which='minor', labelsize=10)\n",
    "# ax.scatter(alphas,tot_fit_unreg_sel[:,delta_idx])\n",
    "# ax.set_xticks(alphas)\n",
    "# ax.set_xticklabels(np.around(alphas,2))\n",
    "# ax.set_xlabel(r\"Expression noise $\\alpha$\",fontsize=18)\n",
    "# ax.set_ylabel(r\"Average fitness\",fontsize=18)\n",
    "# ax.set_title(fr\"No reg., after sel. ($\\delta$={np.around(deltas[delta_idx],1)})\",fontsize=20)\n",
    "# fig.savefig(f\"2a_fit_unreg_sel_vs_alpha_delta={np.around(deltas[delta_idx],1)}.eps\", format=\"eps\")"
   ]
  },
  {
   "cell_type": "code",
   "execution_count": 76,
   "id": "7a309cb3",
   "metadata": {},
   "outputs": [],
   "source": [
    "p_unreg, p_reg, dyn_fit_unreg, dyn_fit_reg = selection(p0_unreg,p0_reg,sug_dyn,alpha,delta)"
   ]
  },
  {
   "cell_type": "code",
   "execution_count": 77,
   "id": "4c530b1b",
   "metadata": {},
   "outputs": [
    {
     "data": {
      "text/plain": [
       "[<matplotlib.lines.Line2D at 0x7fdd968dffa0>]"
      ]
     },
     "execution_count": 77,
     "metadata": {},
     "output_type": "execute_result"
    },
    {
     "data": {
      "image/png": "[encoded data removed]",
      "text/plain": [
       "<Figure size 432x288 with 1 Axes>"
      ]
     },
     "metadata": {
      "needs_background": "light"
     },
     "output_type": "display_data"
    }
   ],
   "source": [
    "plt.plot(TimeRange,dyn_fit_unreg)\n",
    "plt.plot(TimeRange,dyn_fit_reg)\n"
   ]
  },
  {
   "cell_type": "code",
   "execution_count": null,
   "id": "82120ec5",
   "metadata": {},
   "outputs": [],
   "source": []
  }
 ],
 "metadata": {
  "kernelspec": {
   "display_name": "Python 3 (ipykernel)",
   "language": "python",
   "name": "python3"
  },
  "language_info": {
   "codemirror_mode": {
    "name": "ipython",
    "version": 3
   },
   "file_extension": ".py",
   "mimetype": "text/x-python",
   "name": "python",
   "nbconvert_exporter": "python",
   "pygments_lexer": "ipython3",
   "version": "3.9.12"
  }
 },
 "nbformat": 4,
 "nbformat_minor": 5
}
